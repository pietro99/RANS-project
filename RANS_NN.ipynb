{
 "cells": [
  {
   "cell_type": "code",
   "execution_count": 1,
   "id": "173e30ee",
   "metadata": {},
   "outputs": [],
   "source": [
    "import torch \n",
    "import torch.nn as nn\n"
   ]
  },
  {
   "cell_type": "code",
   "execution_count": 2,
   "id": "8934d476",
   "metadata": {},
   "outputs": [],
   "source": [
    "\n",
    "STENCIL_SIZE = 20\n",
    "FEATURE_NUM = 11\n",
    "\n",
    "input_features = torch.rand(STENCIL_SIZE, FEATURE_NUM)\n",
    "\n",
    "rotation_inv_features =input_features[:,4:]\n",
    "\n",
    "y = torch.rand(stencil_size, 2)"
   ]
  },
  {
   "cell_type": "code",
   "execution_count": 3,
   "id": "fc45c88e",
   "metadata": {},
   "outputs": [],
   "source": [
    "class MLP(nn.Module):\n",
    "        def __init__(self, input_size, hidden_size1, hidden_size2, output_size):\n",
    "            super(MLP, self).__init__()\n",
    "            self.input_size = input_size\n",
    "            self.hidden_size1  = hidden_size1\n",
    "            self.hidden_size2 = hidden_size2\n",
    "            self.output_size = output_size\n",
    "            self.linear1 = nn.Linear(self.input_size, self.hidden_size1)\n",
    "            self.relu1 = nn.ReLU()\n",
    "            self.linear2 = nn.Linear(self.hidden_size1, self.hidden_size2)\n",
    "            self.relu2 = nn.ReLU()\n",
    "            self.linear3 = nn.Linear(self.hidden_size2, self.output_size)\n",
    "            self.relu3 = nn.ReLU()\n",
    "            \n",
    "        def forward(self, x):\n",
    "            hidden1 = self.linear1(x)\n",
    "            relu1  =self.relu1(hidden1)\n",
    "            hidden2 = self.linear2(relu1)\n",
    "            relu2 = self.relu2(hidden2)\n",
    "            hidden3 = self.linear3(relu2)\n",
    "            output = self.relu3(hidden3)\n",
    "            return output"
   ]
  },
  {
   "cell_type": "code",
   "execution_count": 4,
   "id": "9e7cf6b3",
   "metadata": {},
   "outputs": [],
   "source": [
    "input_size = rotation_inv_features.size()[1]\n",
    "hidden_size1 = 32\n",
    "hidden_size2 = 64\n",
    "output_size = 64\n",
    "embeddingNetwork = MLP(input_size,hidden_size1, hidden_size2, output_size)\n",
    "loss = torch.nn.BCELoss()\n",
    "optimizer = torch.optim.SGD(embeddingNetwork.parameters(), lr = 0.01)"
   ]
  },
  {
   "cell_type": "code",
   "execution_count": 7,
   "id": "f92ffa48",
   "metadata": {},
   "outputs": [],
   "source": [
    "G = embeddingNetwork(rotation_inv_features)"
   ]
  },
  {
   "cell_type": "code",
   "execution_count": 14,
   "id": "2f936132",
   "metadata": {},
   "outputs": [],
   "source": [
    "G_split_size = 4\n",
    "G_ = G[:, :G_split_size]"
   ]
  },
  {
   "cell_type": "code",
   "execution_count": 15,
   "id": "7850450f",
   "metadata": {},
   "outputs": [],
   "source": [
    "L = torch.matmul(torch.transpose(G, 1,0), input_features)\n",
    "L_ = torch.matmul(torch.transpose(input_features, 1, 0), G_)"
   ]
  },
  {
   "cell_type": "code",
   "execution_count": 16,
   "id": "5132ebee",
   "metadata": {},
   "outputs": [],
   "source": [
    "D = torch.matmul(L, L_)"
   ]
  },
  {
   "cell_type": "code",
   "execution_count": 17,
   "id": "3e23be28",
   "metadata": {},
   "outputs": [],
   "source": [
    "D_flattened = D.flatten()"
   ]
  },
  {
   "cell_type": "code",
   "execution_count": 18,
   "id": "5d264e99",
   "metadata": {},
   "outputs": [],
   "source": [
    "input_size = D_flattened.size()[0]\n",
    "hidden_size1 = 128\n",
    "hidden_size2 = 64\n",
    "output_size = 2\n",
    "fittingNetwork = MLP(input_size, hidden_size1, hidden_size2, output_size)\n",
    "\n",
    "optimizer = torch.optim.SGD(fittingNetwork.parameters(), lr = 0.01)"
   ]
  },
  {
   "cell_type": "code",
   "execution_count": 19,
   "id": "6916eab0",
   "metadata": {},
   "outputs": [],
   "source": [
    "res = fittingNetwork(D_flattened)"
   ]
  },
  {
   "cell_type": "code",
   "execution_count": 30,
   "id": "2e4d1443",
   "metadata": {},
   "outputs": [],
   "source": [
    "a, b = res.detach().numpy()\n"
   ]
  },
  {
   "cell_type": "code",
   "execution_count": 31,
   "id": "564536cf",
   "metadata": {},
   "outputs": [
    {
     "data": {
      "text/plain": [
       "0.34391254"
      ]
     },
     "execution_count": 31,
     "metadata": {},
     "output_type": "execute_result"
    }
   ],
   "source": [
    "a"
   ]
  },
  {
   "cell_type": "code",
   "execution_count": null,
   "id": "1f91a117",
   "metadata": {},
   "outputs": [],
   "source": []
  }
 ],
 "metadata": {
  "kernelspec": {
   "display_name": "Python 3.8.0 64-bit",
   "language": "python",
   "name": "python3"
  },
  "language_info": {
   "codemirror_mode": {
    "name": "ipython",
    "version": 3
   },
   "file_extension": ".py",
   "mimetype": "text/x-python",
   "name": "python",
   "nbconvert_exporter": "python",
   "pygments_lexer": "ipython3",
   "version": "3.8.0"
  },
  "vscode": {
   "interpreter": {
    "hash": "287199f5fcea6f9a85665f99d67797111be3aee227282d66a776eae29d9b3874"
   }
  }
 },
 "nbformat": 4,
 "nbformat_minor": 5
}
