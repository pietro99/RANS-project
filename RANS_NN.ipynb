{
 "cells": [
  {
   "cell_type": "code",
   "execution_count": 1,
   "id": "173e30ee",
   "metadata": {},
   "outputs": [
    {
     "name": "stderr",
     "output_type": "stream",
     "text": [
      "C:\\Users\\Pietro\\anaconda3\\envs\\rans\\lib\\site-packages\\tqdm\\auto.py:22: TqdmWarning: IProgress not found. Please update jupyter and ipywidgets. See https://ipywidgets.readthedocs.io/en/stable/user_install.html\n",
      "  from .autonotebook import tqdm as notebook_tqdm\n"
     ]
    }
   ],
   "source": [
    "import torch \n",
    "import torch.nn as nn\n",
    "from torch.utils.data import Dataset, DataLoader\n",
    "from dataset import SimulationData\n",
    "import math\n",
    "from tqdm import tqdm\n",
    "import numpy as np\n",
    "import matplotlib.pyplot as plt\n",
    "import pandas as pd"
   ]
  },
  {
   "cell_type": "code",
   "execution_count": 2,
   "id": "7c983cf4",
   "metadata": {},
   "outputs": [
    {
     "name": "stderr",
     "output_type": "stream",
     "text": [
      "100%|████████████████████████████████████████████████████████████████████████████████| 500/500 [19:49<00:00,  2.38s/it]\n",
      "100%|████████████████████████████████████████████████████████████████████████████████| 500/500 [21:40<00:00,  2.60s/it]\n",
      "100%|████████████████████████████████████████████████████████████████████████████████| 500/500 [18:58<00:00,  2.28s/it]\n",
      "100%|████████████████████████████████████████████████████████████████████████████████| 500/500 [20:30<00:00,  2.46s/it]\n",
      "100%|████████████████████████████████████████████████████████████████████████████████| 500/500 [20:41<00:00,  2.48s/it]\n",
      "100%|████████████████████████████████████████████████████████████████████████████████| 500/500 [21:28<00:00,  2.58s/it]\n",
      "100%|████████████████████████████████████████████████████████████████████████████████| 500/500 [22:26<00:00,  2.69s/it]\n",
      "100%|████████████████████████████████████████████████████████████████████████████████| 500/500 [21:26<00:00,  2.57s/it]\n",
      "100%|████████████████████████████████████████████████████████████████████████████████| 500/500 [23:13<00:00,  2.79s/it]\n",
      "100%|████████████████████████████████████████████████████████████████████████████████| 500/500 [25:58<00:00,  3.12s/it]\n"
     ]
    }
   ],
   "source": [
    "dataset = SimulationData(stencilNum=500,samplePerStencil=100, fileNames=[\"aw=1.1_internal.csv\",\"aw=1.2_internal.csv\",\"aw=1.3_internal.csv\", \"aw=1.4_internal.csv\",\"aw=1.5_internal.csv\",\"aw=1.6_internal.csv\",\"aw=1.7_internal.csv\",\"aw=1.8_internal.csv\",\"aw=1.9_internal.csv\",\"aw=2.0_internal.csv\"], override=True)\n",
    "#dataset.normalizeData()"
   ]
  },
  {
   "cell_type": "code",
   "execution_count": 3,
   "id": "fc45c88e",
   "metadata": {},
   "outputs": [],
   "source": [
    "class MLP(nn.Module):\n",
    "        def __init__(self, input_size, hidden_size1, hidden_size2, output_size):\n",
    "            \n",
    "            super(MLP, self).__init__()\n",
    "            self.input_size = input_size\n",
    "            self.hidden_size1  = hidden_size1\n",
    "            self.hidden_size2 = hidden_size2\n",
    "            self.output_size = output_size\n",
    "            self.linear1 = nn.Linear(self.input_size, self.hidden_size1)\n",
    "            #self.batchNorm1 = nn.BatchNorm2d(self.hidden_size1)\n",
    "            self.relu1 = nn.ReLU()\n",
    "            self.linear2 = nn.Linear(self.hidden_size1, self.hidden_size2)\n",
    "            #self.batchNorm2 = nn.BatchNorm2d(self.hidden_size2)\n",
    "            self.relu2 = nn.ReLU()\n",
    "            self.linear3 = nn.Linear(self.hidden_size2, self.output_size)\n",
    "            #self.batchNorm2 = nn.BatchNorm2d(self.hidden_size2)\n",
    "            #self.relu3 = nn.ReLU()\n",
    "            \n",
    "        def forward(self, x):\n",
    "            hidden1 = self.linear1(x)\n",
    "            relu1  =self.relu1(hidden1)\n",
    "            hidden2 = self.linear2(relu1)\n",
    "            relu2 = self.relu2(hidden2)\n",
    "            output = self.linear3(relu2)\n",
    "            return output"
   ]
  },
  {
   "cell_type": "code",
   "execution_count": 4,
   "id": "64a86208",
   "metadata": {},
   "outputs": [],
   "source": [
    "class WeightedSum(nn.Module):\n",
    "    def __init__(self):\n",
    "        super(WeightedSum, self).__init__()\n",
    "        self.G_split_size = 5\n",
    "    \n",
    "    def forward(self, G, input_features):\n",
    "        #print(f'if: {input_features[0]}')\n",
    "        G_ = G[:, :self.G_split_size]\n",
    "        #print(G_.shape[0])\n",
    "        L = (torch.matmul(torch.transpose(G, 1,0), input_features) / G.shape[0])\n",
    "        L_ = (torch.matmul(torch.transpose(input_features, 1, 0), G_) / G.shape[0])\n",
    "        D = torch.matmul(L, L_)\n",
    "        #print(f'D: {D}')\n",
    "        #print()\n",
    "        return D\n",
    "    "
   ]
  },
  {
   "cell_type": "code",
   "execution_count": 5,
   "id": "4dfe74f9",
   "metadata": {},
   "outputs": [],
   "source": [
    "class MainNet(nn.Module):\n",
    "    def __init__(self, input_size1, hidden_size1_1,hidden_size1_2, output_size1,\n",
    "                 input_size2, hidden_size2_1, hidden_size2_2, output_size2):\n",
    "        \n",
    "        super(MainNet, self).__init__()\n",
    "        self.invariant_features_indeces = [4,5,6,7]\n",
    "\n",
    "        self.embeddingNetwork = MLP(input_size1,hidden_size1_1, hidden_size1_2, output_size1)\n",
    "        self.weightedSum = WeightedSum()\n",
    "        self.flatten = nn.Flatten(1,-1)\n",
    "        self.fittingNetwork = MLP(input_size2,hidden_size2_1, hidden_size2_2, output_size2)\n",
    "        \n",
    "        \n",
    "   \n",
    "    def forward(self, x):\n",
    "    \n",
    "        #print(f'input values: {x[0]}\\n shape: {x.shape}')\n",
    "        invariant_x = x[:, self.invariant_features_indeces]\n",
    "        \n",
    "        embedding_output = self.embeddingNetwork(invariant_x)\n",
    "        #print(f' shape: {embedding_output.shape}')\n",
    "\n",
    "        weighted_output = self.weightedSum(embedding_output, x)\n",
    "        #print(f' shape: {weighted_output.shape}')\n",
    "        \n",
    "        weighted_output_flattened = torch.flatten(weighted_output)\n",
    "        #print(f' shape: {weighted_output_flattened.shape}')\n",
    "        \n",
    "        fitting_output = self.fittingNetwork(weighted_output_flattened)\n",
    "        #print(f'fitting output: {fitting_output}\\n shape: {fitting_output.shape}')\n",
    "\n",
    "        return fitting_output"
   ]
  },
  {
   "cell_type": "code",
   "execution_count": 6,
   "id": "cd62a607",
   "metadata": {},
   "outputs": [],
   "source": [
    "input_size1 = 4\n",
    "hidden_size1_1 = 32\n",
    "hidden_size1_2 = 64\n",
    "output_size1 = 256\n",
    "\n",
    "input_size2 = 256*5\n",
    "hidden_size2_1 = 64\n",
    "hidden_size2_2 = 32\n",
    "output_size2 = 3\n",
    "\n",
    "net = MainNet(input_size1, hidden_size1_1, hidden_size1_2, output_size1, input_size2,hidden_size2_1, hidden_size2_2, output_size2)"
   ]
  },
  {
   "cell_type": "code",
   "execution_count": 7,
   "id": "256fb836",
   "metadata": {},
   "outputs": [
    {
     "data": {
      "text/plain": [
       "4946"
      ]
     },
     "execution_count": 7,
     "metadata": {},
     "output_type": "execute_result"
    }
   ],
   "source": [
    "len(dataset)"
   ]
  },
  {
   "cell_type": "code",
   "execution_count": 8,
   "id": "5b47efbd",
   "metadata": {},
   "outputs": [],
   "source": [
    "import math\n",
    "test_perc = 0.22\n",
    "train_perc = 1-test_perc\n",
    "train_length = math.ceil(len(dataset) * train_perc)\n",
    "test_length = math.ceil(len(dataset) *test_perc)\n",
    "train_length = train_length + (len(dataset)-train_length-test_length)\n",
    "train, test = torch.utils.data.random_split(dataset, [train_length,test_length], generator=torch.Generator().manual_seed(42))"
   ]
  },
  {
   "cell_type": "code",
   "execution_count": 9,
   "id": "46352b7e",
   "metadata": {},
   "outputs": [],
   "source": [
    "loader_train = DataLoader(dataset= train, batch_size = 1, num_workers=1)\n",
    "loader_test = DataLoader(dataset= test, batch_size = 1, num_workers=1)"
   ]
  },
  {
   "cell_type": "code",
   "execution_count": 10,
   "id": "be8375cc",
   "metadata": {},
   "outputs": [],
   "source": [
    "optimizer = torch.optim.Adam(net.parameters(), lr=0.001, betas=(0.9, 0.999), eps=1e-08)\n",
    "#optimizer = torch.optim.SGD(net.parameters(), lr=0.001, momentum=0.9)\n",
    "\n",
    "criterion = nn.MSELoss()"
   ]
  },
  {
   "cell_type": "code",
   "execution_count": 11,
   "id": "ecefadd5",
   "metadata": {},
   "outputs": [
    {
     "data": {
      "text/plain": [
       "\"\\ndef test():\\n    net.eval()\\n    with torch.no_grad():\\n        losses = []\\n        counter = 0\\n        for i, data in enumerate(loader_test):\\n            counter +=1\\n            x_batch,y_batch = data\\n            for i in range(len(x_batch)):\\n                x = x_batch[i]\\n                y = y_batch[i]\\n                output1, output2, output3 = net(x.float())\\n                loss1 = criterion(output1.reshape(1).float(), y[[0]].float())\\n                loss2 = criterion(output2.reshape(1).float(), y[[1]].float())\\n                loss3 = criterion(output3.reshape(1).float(), y[[2]].float())\\n                loss = ((loss1)+(loss2)+(loss3)/3)\\n                losses.append(loss.item())\\n    print(f'avg testing loss: {sum(losses)/len(losses)}')\\n    return losses\\n\""
      ]
     },
     "execution_count": 11,
     "metadata": {},
     "output_type": "execute_result"
    }
   ],
   "source": [
    "\"\"\"\n",
    "def test():\n",
    "    net.eval()\n",
    "    with torch.no_grad():\n",
    "        losses = []\n",
    "        counter = 0\n",
    "        for i, data in enumerate(loader_test):\n",
    "            counter +=1\n",
    "            x_batch,y_batch = data\n",
    "            for i in range(len(x_batch)):\n",
    "                x = x_batch[i]\n",
    "                y = y_batch[i]\n",
    "                output1, output2, output3 = net(x.float())\n",
    "                loss1 = criterion(output1.reshape(1).float(), y[[0]].float())\n",
    "                loss2 = criterion(output2.reshape(1).float(), y[[1]].float())\n",
    "                loss3 = criterion(output3.reshape(1).float(), y[[2]].float())\n",
    "                loss = ((loss1)+(loss2)+(loss3)/3)\n",
    "                losses.append(loss.item())\n",
    "    print(f'avg testing loss: {sum(losses)/len(losses)}')\n",
    "    return losses\n",
    "\"\"\""
   ]
  },
  {
   "cell_type": "code",
   "execution_count": 12,
   "id": "08b016f3",
   "metadata": {},
   "outputs": [],
   "source": [
    "from dataset import rotate\n",
    "\n",
    "def test_rotation(x, model):\n",
    "    with torch.no_grad():\n",
    "        #print()\n",
    "        #print(f'input: {x[0]}')\n",
    "\n",
    "        output1, output2, output3 = model(x.float())\n",
    "        rotate_cloud(x)\n",
    "        output1_rotated, output2_rotated, output3_rotated = model(x.float())\n",
    "\n",
    "    #print(f'input rotated: {x[0]}')\n",
    "    '''\n",
    "    print(f'{output1} - {output1_rotated} # pass: {(output1 - output1_rotated) <=0.0001}')\n",
    "    print(f'{output2} - {output2_rotated} # pass: {(output2 - output2_rotated) <=0.0001}')\n",
    "    print(f'{output3} - {output3_rotated} # pass: {(output3 - output3_rotated) <=0.0001}')\n",
    "    '''\n",
    "def rotate_cloud(x):\n",
    "    for point in x:\n",
    "        point[[0,1]] = rotate(-90,point[[0,1]])\n",
    "        point[[2,3]] = rotate(-90,point[[2,3]])\n",
    "        point[[8,9]] = rotate(-90,point[[8,9]])\n",
    "    return x\n",
    "\n"
   ]
  },
  {
   "cell_type": "code",
   "execution_count": 13,
   "id": "026eeca2",
   "metadata": {},
   "outputs": [],
   "source": [
    "def train_one_epoch():\n",
    "    net.train()\n",
    "    losses = []\n",
    "    losses_k = []\n",
    "    losses_eps = []\n",
    "    losses_nut = []\n",
    "    \n",
    "    losses_eval = []\n",
    "    losses_k_eval = []\n",
    "    losses_eps_eval = []\n",
    "    losses_nut_eval = []\n",
    "    info = []\n",
    "    counter = 0\n",
    "\n",
    "    for i, data in enumerate(zip(loader_train, loader_test)):\n",
    "        counter +=1\n",
    "        loader_train_temp,loader_test_temp = data\n",
    "        x_batch, y_batch = loader_train_temp\n",
    "        x_batch_test, y_batch_test = loader_test_temp\n",
    "        info.append({})\n",
    "        for i in range(len(x_batch)):\n",
    "            #print(x_batch)\n",
    "            x = x_batch[i].float()\n",
    "            y = y_batch[i].float()\n",
    "            #print(x_batch.grad)\n",
    "            #print(y)\n",
    "            x_test = x_batch_test[i].float()\n",
    "            y_test = y_batch_test[i].float()\n",
    "            \n",
    "            #test_rotation(x, net)\n",
    "            #test_rotation(x_test, net)\n",
    "            \n",
    "            info[counter-1][\"x\"] = x\n",
    "            info[counter-1][\"y\"] = y\n",
    "            \n",
    "            optimizer.zero_grad()\n",
    "            output1, output2, output3 = net(x)\n",
    "            loss1 = criterion(output1.reshape(1), y[[0]])\n",
    "            loss2 = criterion(output2.reshape(1), y[[1]])\n",
    "            loss3 = criterion(output3.reshape(1), y[[2]])\n",
    "            loss = ((loss1)+(loss2)+(loss3))/3\n",
    "            \n",
    "            '''\n",
    "            print('-')\n",
    "            print(f'output:{output1.reshape(1).float()} - true: { y[[0]].float()}')\n",
    "            print(f'output:{output2.reshape(1).float()} - true: { y[[1]].float()}')\n",
    "            print(f'output:{output3.reshape(1).float()} - true: { y[[2]].float()}')\n",
    "            print('-')\n",
    "            print(loss)\n",
    "            '''\n",
    "            \n",
    "            info[counter-1][\"output\"] = [output1.item(),output2.item(),output3.item()]\n",
    "            info[counter-1][\"loss\"] = loss.item()\n",
    "            info[counter-1][\"loss epsilon\"] = loss1.item()\n",
    "            info[counter-1][\"loss k\"] = loss2.item()\n",
    "            info[counter-1][\"loss nut\"] = loss3.item()\n",
    "            #print(net.fittingNetwork.linear3.weight)\n",
    "\n",
    "            loss.backward()\n",
    "            optimizer.step()\n",
    "            #print(net.fittingNetwork.linear3.weight)\n",
    "\n",
    "            with torch.no_grad():\n",
    "                output1, output2, output3 = net(x_test.float())\n",
    "                loss1_eval = criterion(output1.reshape(1).float(), y_test[[0]].float())\n",
    "                loss2_eval = criterion(output2.reshape(1).float(), y_test[[1]].float())\n",
    "                loss3_eval = criterion(output3.reshape(1).float(), y_test[[2]].float())\n",
    "                loss_eval = ((loss1_eval)+(loss2_eval)+(loss3_eval))/3\n",
    "\n",
    "            #print(x[0])\n",
    "            #print(output1.item(), output2.item(), output3.item())\n",
    "            #print(y[0].item(), y[1].item(), y[2].item())\n",
    "            #print(loss.item())\n",
    "            #print()\n",
    "            #if(loss.item()>=0.20):\n",
    "            losses.append(loss.item())\n",
    "            losses_eps.append(loss1.item())\n",
    "            losses_k.append(loss2.item())\n",
    "            losses_nut.append(loss3.item())\n",
    "            \n",
    "            losses_eval.append(loss_eval.item())\n",
    "            losses_eps_eval.append(loss1_eval.item())\n",
    "            losses_k_eval.append(loss2_eval.item())\n",
    "            losses_nut_eval.append(loss3_eval.item())\n",
    "\n",
    "    return losses,losses_k,losses_eps, losses_nut,losses_eval,losses_eps_eval,losses_k_eval,losses_nut_eval, info"
   ]
  },
  {
   "cell_type": "code",
   "execution_count": 14,
   "id": "e534d609",
   "metadata": {},
   "outputs": [],
   "source": [
    "train_losses = []\n",
    "train_losses_k = []\n",
    "train_losses_eps = []\n",
    "train_losses_nut = []\n",
    "\n",
    "test_losses = []\n",
    "test_losses_k = []\n",
    "test_losses_eps = []\n",
    "test_losses_nut= []\n",
    "\n",
    "infos_train = []\n",
    "infos_val = []"
   ]
  },
  {
   "cell_type": "code",
   "execution_count": null,
   "id": "21c51601",
   "metadata": {
    "scrolled": false
   },
   "outputs": [
    {
     "name": "stderr",
     "output_type": "stream",
     "text": [
      "  0%|▍                                                                                 | 1/200 [00:11<38:46, 11.69s/it]"
     ]
    },
    {
     "name": "stdout",
     "output_type": "stream",
     "text": [
      "#############\n",
      "epoch 0:\n",
      "total training loss 0.11901866704607124 total eval loss 0.18285657235412547\n",
      "nut training loss 0.14515400652783828 nut eval loss 0.21282743057784353\n",
      "eps training loss 0.09857042520117924 eps eval loss 0.15051489845899316\n",
      "k training loss 0.11333156879281461 k eval loss 0.18522738510541198\n",
      "#############\n",
      "\n"
     ]
    },
    {
     "name": "stderr",
     "output_type": "stream",
     "text": [
      "\r",
      "  1%|▊                                                                                 | 2/200 [00:25<43:14, 13.10s/it]"
     ]
    },
    {
     "name": "stdout",
     "output_type": "stream",
     "text": [
      "#############\n",
      "epoch 1:\n",
      "total training loss 0.1247795376262083 total eval loss 0.1852594947844788\n",
      "nut training loss 0.15224610330548527 nut eval loss 0.21681452627767642\n",
      "eps training loss 0.10364852195974644 eps eval loss 0.1464150067174314\n",
      "k training loss 0.1184439871580947 k eval loss 0.1925489539366074\n",
      "#############\n",
      "\n"
     ]
    },
    {
     "name": "stderr",
     "output_type": "stream",
     "text": [
      "\r",
      "  2%|█▏                                                                                | 3/200 [00:42<48:59, 14.92s/it]"
     ]
    },
    {
     "name": "stdout",
     "output_type": "stream",
     "text": [
      "#############\n",
      "epoch 2:\n",
      "total training loss 0.13459334468199338 total eval loss 0.19937319821727598\n",
      "nut training loss 0.15744560933953802 nut eval loss 0.2277894773414009\n",
      "eps training loss 0.10341451908927785 eps eval loss 0.14636505950057882\n",
      "k training loss 0.1429199039373273 k eval loss 0.22396505723161647\n",
      "#############\n",
      "\n"
     ]
    },
    {
     "name": "stderr",
     "output_type": "stream",
     "text": [
      "\r",
      "  2%|█▋                                                                                | 4/200 [01:04<57:30, 17.61s/it]"
     ]
    },
    {
     "name": "stdout",
     "output_type": "stream",
     "text": [
      "#############\n",
      "epoch 3:\n",
      "total training loss 0.12253375232936274 total eval loss 0.18775880275948434\n",
      "nut training loss 0.14533843794571896 nut eval loss 0.22230366319067463\n",
      "eps training loss 0.10139923603424944 eps eval loss 0.14530886362524562\n",
      "k training loss 0.12086358207823497 k eval loss 0.19566387964396664\n",
      "#############\n",
      "\n"
     ]
    },
    {
     "name": "stderr",
     "output_type": "stream",
     "text": [
      "\r",
      "  2%|██                                                                              | 5/200 [01:25<1:00:59, 18.77s/it]"
     ]
    },
    {
     "name": "stdout",
     "output_type": "stream",
     "text": [
      "#############\n",
      "epoch 4:\n",
      "total training loss 0.12732076644721074 total eval loss 0.18589616653391472\n",
      "nut training loss 0.16408852702293136 nut eval loss 0.21318768563074875\n",
      "eps training loss 0.10276990665390193 eps eval loss 0.1509387144112089\n",
      "k training loss 0.11510386174492035 k eval loss 0.193562094895535\n",
      "#############\n",
      "\n"
     ]
    },
    {
     "name": "stderr",
     "output_type": "stream",
     "text": [
      "\r",
      "  3%|██▍                                                                             | 6/200 [01:48<1:05:20, 20.21s/it]"
     ]
    },
    {
     "name": "stdout",
     "output_type": "stream",
     "text": [
      "#############\n",
      "epoch 5:\n",
      "total training loss 0.1517536705977772 total eval loss 0.2046469170188072\n",
      "nut training loss 0.18288463850835338 nut eval loss 0.23790256524394748\n",
      "eps training loss 0.10411079168520665 eps eval loss 0.15113762452609078\n",
      "k training loss 0.1682655815091123 k eval loss 0.22490055814102047\n",
      "#############\n",
      "\n"
     ]
    },
    {
     "name": "stderr",
     "output_type": "stream",
     "text": [
      "\r",
      "  4%|██▊                                                                             | 7/200 [02:22<1:19:18, 24.66s/it]"
     ]
    },
    {
     "name": "stdout",
     "output_type": "stream",
     "text": [
      "#############\n",
      "epoch 6:\n",
      "total training loss 0.11936681206090952 total eval loss 0.1827983965280371\n",
      "nut training loss 0.13774158916468282 nut eval loss 0.20753328103149413\n",
      "eps training loss 0.1036776919010775 eps eval loss 0.1492470356414329\n",
      "k training loss 0.11668115281033489 k eval loss 0.19161487596289306\n",
      "#############\n",
      "\n"
     ]
    },
    {
     "name": "stderr",
     "output_type": "stream",
     "text": [
      "\r",
      "  4%|███▏                                                                            | 8/200 [02:43<1:14:59, 23.44s/it]"
     ]
    },
    {
     "name": "stdout",
     "output_type": "stream",
     "text": [
      "#############\n",
      "epoch 7:\n",
      "total training loss 0.11377087968291677 total eval loss 0.17349544461774644\n",
      "nut training loss 0.13379996644029926 nut eval loss 0.20426152658563113\n",
      "eps training loss 0.10300839092481563 eps eval loss 0.14925448953646694\n",
      "k training loss 0.10450428125268561 k eval loss 0.16697031713785462\n",
      "#############\n",
      "\n"
     ]
    },
    {
     "name": "stderr",
     "output_type": "stream",
     "text": [
      "\r",
      "  4%|███▌                                                                            | 9/200 [03:01<1:09:08, 21.72s/it]"
     ]
    },
    {
     "name": "stdout",
     "output_type": "stream",
     "text": [
      "#############\n",
      "epoch 8:\n",
      "total training loss 0.12077907214491597 total eval loss 0.17658399229108807\n",
      "nut training loss 0.14895868932835735 nut eval loss 0.20886994142214974\n",
      "eps training loss 0.1005579017841151 eps eval loss 0.14778770776388414\n",
      "k training loss 0.11282062609472533 k eval loss 0.17309433037292402\n",
      "#############\n",
      "\n"
     ]
    },
    {
     "name": "stderr",
     "output_type": "stream",
     "text": [
      "\r",
      "  5%|███▉                                                                           | 10/200 [03:21<1:07:49, 21.42s/it]"
     ]
    },
    {
     "name": "stdout",
     "output_type": "stream",
     "text": [
      "#############\n",
      "epoch 9:\n",
      "total training loss 0.1205693595103887 total eval loss 0.17347866870457068\n",
      "nut training loss 0.14520579890590196 nut eval loss 0.19719625030438975\n",
      "eps training loss 0.10332305064518447 eps eval loss 0.1535338404880745\n",
      "k training loss 0.1131792306079716 k eval loss 0.1697059144733293\n",
      "#############\n",
      "\n"
     ]
    },
    {
     "name": "stderr",
     "output_type": "stream",
     "text": [
      "\r",
      "  6%|████▎                                                                          | 11/200 [03:38<1:03:24, 20.13s/it]"
     ]
    },
    {
     "name": "stdout",
     "output_type": "stream",
     "text": [
      "#############\n",
      "epoch 10:\n",
      "total training loss 0.13408282844803396 total eval loss 0.2009561172815881\n",
      "nut training loss 0.16789391288737515 nut eval loss 0.24004757001286006\n",
      "eps training loss 0.10304089881545817 eps eval loss 0.15189843439488113\n",
      "k training loss 0.13131367594407378 k eval loss 0.21092234577932062\n",
      "#############\n",
      "\n"
     ]
    },
    {
     "name": "stderr",
     "output_type": "stream",
     "text": [
      "\r",
      "  6%|████▊                                                                            | 12/200 [03:54<58:37, 18.71s/it]"
     ]
    },
    {
     "name": "stdout",
     "output_type": "stream",
     "text": [
      "#############\n",
      "epoch 11:\n",
      "total training loss 0.11336000630333735 total eval loss 0.17128631205147704\n",
      "nut training loss 0.13540040297319272 nut eval loss 0.20315557673982051\n",
      "eps training loss 0.10230033308664789 eps eval loss 0.14404935474783537\n",
      "k training loss 0.10237927780826504 k eval loss 0.1666539997661271\n",
      "#############\n",
      "\n"
     ]
    },
    {
     "name": "stderr",
     "output_type": "stream",
     "text": [
      "\r",
      "  6%|█████▎                                                                           | 13/200 [04:11<56:32, 18.14s/it]"
     ]
    },
    {
     "name": "stdout",
     "output_type": "stream",
     "text": [
      "#############\n",
      "epoch 12:\n",
      "total training loss 0.1186281048260321 total eval loss 0.18637935689806845\n",
      "nut training loss 0.1474759180891069 nut eval loss 0.22075280299463798\n",
      "eps training loss 0.1000913409974004 eps eval loss 0.15113015179612949\n",
      "k training loss 0.10831705598972752 k eval loss 0.18725511576972184\n",
      "#############\n",
      "\n"
     ]
    },
    {
     "name": "stderr",
     "output_type": "stream",
     "text": [
      "\r",
      "  7%|█████▋                                                                           | 14/200 [04:29<56:30, 18.23s/it]"
     ]
    },
    {
     "name": "stdout",
     "output_type": "stream",
     "text": [
      "#############\n",
      "epoch 13:\n",
      "total training loss 0.10854465059354076 total eval loss 0.18806283700946547\n",
      "nut training loss 0.1265959687298251 nut eval loss 0.22551724719706714\n",
      "eps training loss 0.09922419034360573 eps eval loss 0.14700944366495652\n",
      "k training loss 0.09981379274835739 k eval loss 0.19166181470407498\n",
      "#############\n",
      "\n"
     ]
    },
    {
     "name": "stderr",
     "output_type": "stream",
     "text": [
      "\r",
      "  8%|██████                                                                           | 15/200 [04:48<56:56, 18.47s/it]"
     ]
    },
    {
     "name": "stdout",
     "output_type": "stream",
     "text": [
      "#############\n",
      "epoch 14:\n",
      "total training loss 0.12214722400662661 total eval loss 0.1907226501044743\n",
      "nut training loss 0.1551215333288293 nut eval loss 0.2329131344392709\n",
      "eps training loss 0.10017635597130614 eps eval loss 0.1501720909410037\n",
      "k training loss 0.11114378267296754 k eval loss 0.18908272620171257\n",
      "#############\n",
      "\n"
     ]
    },
    {
     "name": "stderr",
     "output_type": "stream",
     "text": [
      "\r",
      "  8%|██████▍                                                                          | 16/200 [05:06<55:55, 18.24s/it]"
     ]
    },
    {
     "name": "stdout",
     "output_type": "stream",
     "text": [
      "#############\n",
      "epoch 15:\n",
      "total training loss 0.11781788045196952 total eval loss 0.196130382012211\n",
      "nut training loss 0.1491375944082938 nut eval loss 0.2428159882730568\n",
      "eps training loss 0.09856877071342164 eps eval loss 0.15313623284592146\n",
      "k training loss 0.10574727561497191 k eval loss 0.19243892235253243\n",
      "#############\n",
      "\n"
     ]
    },
    {
     "name": "stderr",
     "output_type": "stream",
     "text": [
      "\r",
      "  8%|██████▉                                                                          | 17/200 [05:26<57:31, 18.86s/it]"
     ]
    },
    {
     "name": "stdout",
     "output_type": "stream",
     "text": [
      "#############\n",
      "epoch 16:\n",
      "total training loss 0.12902497469886756 total eval loss 0.18806956042911127\n",
      "nut training loss 0.15934635788006898 nut eval loss 0.2165607307810762\n",
      "eps training loss 0.09721248108804395 eps eval loss 0.14877868532225527\n",
      "k training loss 0.1305160848892366 k eval loss 0.19886926378949596\n",
      "#############\n",
      "\n"
     ]
    },
    {
     "name": "stderr",
     "output_type": "stream",
     "text": [
      "\r",
      "  9%|███████▎                                                                         | 18/200 [05:44<56:10, 18.52s/it]"
     ]
    },
    {
     "name": "stdout",
     "output_type": "stream",
     "text": [
      "#############\n",
      "epoch 17:\n",
      "total training loss 0.11570715096801644 total eval loss 0.17720933838043124\n",
      "nut training loss 0.14206502833869838 nut eval loss 0.20729784887153183\n",
      "eps training loss 0.10042841387503472 eps eval loss 0.14082817100841633\n",
      "k training loss 0.10462801038555627 k eval loss 0.1835019923489753\n",
      "#############\n",
      "\n"
     ]
    },
    {
     "name": "stderr",
     "output_type": "stream",
     "text": [
      "\r",
      " 10%|███████▋                                                                         | 19/200 [06:01<54:12, 17.97s/it]"
     ]
    },
    {
     "name": "stdout",
     "output_type": "stream",
     "text": [
      "#############\n",
      "epoch 18:\n",
      "total training loss 0.11343800898612912 total eval loss 0.18159722314806076\n",
      "nut training loss 0.1390310182159336 nut eval loss 0.21197993584486152\n",
      "eps training loss 0.09902851539909424 eps eval loss 0.1421149561326933\n",
      "k training loss 0.10225449168031707 k eval loss 0.19069677791921677\n",
      "#############\n",
      "\n"
     ]
    },
    {
     "name": "stderr",
     "output_type": "stream",
     "text": [
      "\r",
      " 10%|████████                                                                         | 20/200 [06:18<52:59, 17.67s/it]"
     ]
    },
    {
     "name": "stdout",
     "output_type": "stream",
     "text": [
      "#############\n",
      "epoch 19:\n",
      "total training loss 0.10590778566968191 total eval loss 0.16557329161385362\n",
      "nut training loss 0.12451236793640476 nut eval loss 0.19341943097653405\n",
      "eps training loss 0.09847389742955659 eps eval loss 0.14062508132380874\n",
      "k training loss 0.09473709022418848 k eval loss 0.16267536024846438\n",
      "#############\n",
      "\n"
     ]
    },
    {
     "name": "stderr",
     "output_type": "stream",
     "text": [
      "\r",
      " 10%|████████▌                                                                        | 21/200 [06:33<50:34, 16.95s/it]"
     ]
    },
    {
     "name": "stdout",
     "output_type": "stream",
     "text": [
      "#############\n",
      "epoch 20:\n",
      "total training loss 0.11769648967752422 total eval loss 0.18708149305527236\n",
      "nut training loss 0.14254779726900124 nut eval loss 0.2223136241877944\n",
      "eps training loss 0.09961810897493761 eps eval loss 0.14985421934301357\n",
      "k training loss 0.11092356241840268 k eval loss 0.18907663534056882\n",
      "#############\n",
      "\n"
     ]
    },
    {
     "name": "stderr",
     "output_type": "stream",
     "text": [
      "\r",
      " 11%|████████▉                                                                        | 22/200 [06:49<49:15, 16.60s/it]"
     ]
    },
    {
     "name": "stdout",
     "output_type": "stream",
     "text": [
      "#############\n",
      "epoch 21:\n",
      "total training loss 0.1456741923005982 total eval loss 0.20011245210095566\n",
      "nut training loss 0.18748028504527797 nut eval loss 0.2553470129567692\n",
      "eps training loss 0.1024784887834729 eps eval loss 0.14655841317794427\n",
      "k training loss 0.1470638034320088 k eval loss 0.19843192911330765\n",
      "#############\n",
      "\n"
     ]
    },
    {
     "name": "stderr",
     "output_type": "stream",
     "text": [
      "\r",
      " 12%|█████████▎                                                                       | 23/200 [07:11<53:53, 18.27s/it]"
     ]
    },
    {
     "name": "stdout",
     "output_type": "stream",
     "text": [
      "#############\n",
      "epoch 22:\n",
      "total training loss 0.14350832558054724 total eval loss 0.1834582953813092\n",
      "nut training loss 0.17962165666615976 nut eval loss 0.22096465755357703\n",
      "eps training loss 0.1054588865994106 eps eval loss 0.14747463526080773\n",
      "k training loss 0.1454444344215373 k eval loss 0.18193559575100765\n",
      "#############\n",
      "\n"
     ]
    },
    {
     "name": "stderr",
     "output_type": "stream",
     "text": [
      "\r",
      " 12%|█████████▋                                                                       | 24/200 [07:33<56:53, 19.40s/it]"
     ]
    },
    {
     "name": "stdout",
     "output_type": "stream",
     "text": [
      "#############\n",
      "epoch 23:\n",
      "total training loss 0.11273815935609156 total eval loss 0.17488151324907\n",
      "nut training loss 0.1378881559729922 nut eval loss 0.20259376974349833\n",
      "eps training loss 0.1014997776171849 eps eval loss 0.14209773719770483\n",
      "k training loss 0.09882654409964642 k eval loss 0.1799530329871739\n",
      "#############\n",
      "\n"
     ]
    },
    {
     "name": "stderr",
     "output_type": "stream",
     "text": [
      "\r",
      " 12%|██████████▏                                                                      | 25/200 [07:53<56:50, 19.49s/it]"
     ]
    },
    {
     "name": "stdout",
     "output_type": "stream",
     "text": [
      "#############\n",
      "epoch 24:\n",
      "total training loss 0.10644004770706275 total eval loss 0.1624195201114841\n",
      "nut training loss 0.13111323737801997 nut eval loss 0.18443810313737483\n",
      "eps training loss 0.10044133810569576 eps eval loss 0.14334413913445274\n",
      "k training loss 0.0877655684190598 k eval loss 0.15947631864931178\n",
      "#############\n",
      "\n"
     ]
    },
    {
     "name": "stderr",
     "output_type": "stream",
     "text": [
      "\r",
      " 13%|██████████▌                                                                      | 26/200 [08:10<54:31, 18.80s/it]"
     ]
    },
    {
     "name": "stdout",
     "output_type": "stream",
     "text": [
      "#############\n",
      "epoch 25:\n",
      "total training loss 0.1144171932346806 total eval loss 0.18550686466017097\n",
      "nut training loss 0.14287267908925094 nut eval loss 0.21281251920416974\n",
      "eps training loss 0.10120388359568198 eps eval loss 0.14279009774003842\n",
      "k training loss 0.09917501931240245 k eval loss 0.20091797757888025\n",
      "#############\n",
      "\n"
     ]
    },
    {
     "name": "stderr",
     "output_type": "stream",
     "text": [
      "\r",
      " 14%|██████████▉                                                                      | 27/200 [08:25<51:16, 17.79s/it]"
     ]
    },
    {
     "name": "stdout",
     "output_type": "stream",
     "text": [
      "#############\n",
      "epoch 26:\n",
      "total training loss 0.11957584292760925 total eval loss 0.18998012378887416\n",
      "nut training loss 0.14577139616846183 nut eval loss 0.22226851330163502\n",
      "eps training loss 0.09929479649209957 eps eval loss 0.14823136135295467\n",
      "k training loss 0.11366133446408325 k eval loss 0.19944049699881733\n",
      "#############\n",
      "\n"
     ]
    },
    {
     "name": "stderr",
     "output_type": "stream",
     "text": [
      "\r",
      " 14%|███████████▎                                                                     | 28/200 [08:41<49:18, 17.20s/it]"
     ]
    },
    {
     "name": "stdout",
     "output_type": "stream",
     "text": [
      "#############\n",
      "epoch 27:\n",
      "total training loss 0.10611870666210373 total eval loss 0.1753364165220244\n",
      "nut training loss 0.12527925237019708 nut eval loss 0.20055033401614275\n",
      "eps training loss 0.09953472516690623 eps eval loss 0.15248923960492927\n",
      "k training loss 0.09354214369476609 k eval loss 0.1729696769079037\n",
      "#############\n",
      "\n"
     ]
    },
    {
     "name": "stderr",
     "output_type": "stream",
     "text": [
      "\r",
      " 14%|███████████▋                                                                     | 29/200 [08:59<49:27, 17.35s/it]"
     ]
    },
    {
     "name": "stdout",
     "output_type": "stream",
     "text": [
      "#############\n",
      "epoch 28:\n",
      "total training loss 0.14054598361353057 total eval loss 0.19388154875137922\n",
      "nut training loss 0.17585792516744106 nut eval loss 0.2370053033683143\n",
      "eps training loss 0.10004169863275603 eps eval loss 0.15080574220922546\n",
      "k training loss 0.1457383295211666 k eval loss 0.19383359871905576\n",
      "#############\n",
      "\n"
     ]
    },
    {
     "name": "stderr",
     "output_type": "stream",
     "text": [
      "\r",
      " 15%|████████████▏                                                                    | 30/200 [09:21<52:58, 18.70s/it]"
     ]
    },
    {
     "name": "stdout",
     "output_type": "stream",
     "text": [
      "#############\n",
      "epoch 29:\n",
      "total training loss 0.1478264018751411 total eval loss 0.20311832738747426\n",
      "nut training loss 0.17466637947802377 nut eval loss 0.22210534726636183\n",
      "eps training loss 0.10237708579498098 eps eval loss 0.15439751015080297\n",
      "k training loss 0.16643573753678706 k eval loss 0.2328521246216651\n",
      "#############\n",
      "\n"
     ]
    },
    {
     "name": "stderr",
     "output_type": "stream",
     "text": [
      "\r",
      " 16%|████████████▌                                                                    | 31/200 [09:41<53:56, 19.15s/it]"
     ]
    },
    {
     "name": "stdout",
     "output_type": "stream",
     "text": [
      "#############\n",
      "epoch 30:\n",
      "total training loss 0.10432972651345615 total eval loss 0.15737535363116387\n",
      "nut training loss 0.119053950763513 nut eval loss 0.18168935943367773\n",
      "eps training loss 0.09922926949775775 eps eval loss 0.13701715963247232\n",
      "k training loss 0.09470596233231951 k eval loss 0.15341953810516964\n",
      "#############\n",
      "\n"
     ]
    },
    {
     "name": "stderr",
     "output_type": "stream",
     "text": [
      "\r",
      " 16%|████████████▉                                                                    | 32/200 [10:03<56:36, 20.22s/it]"
     ]
    },
    {
     "name": "stdout",
     "output_type": "stream",
     "text": [
      "#############\n",
      "epoch 31:\n",
      "total training loss 0.0994172748575064 total eval loss 0.1643704728481493\n",
      "nut training loss 0.11678420483179998 nut eval loss 0.18631109271059648\n",
      "eps training loss 0.09662147327797327 eps eval loss 0.1473926215764975\n",
      "k training loss 0.08484614919452807 k eval loss 0.1594077071643929\n",
      "#############\n",
      "\n"
     ]
    },
    {
     "name": "stderr",
     "output_type": "stream",
     "text": [
      "\r",
      " 16%|█████████████▎                                                                   | 33/200 [10:20<53:31, 19.23s/it]"
     ]
    },
    {
     "name": "stdout",
     "output_type": "stream",
     "text": [
      "#############\n",
      "epoch 32:\n",
      "total training loss 0.11051950525270797 total eval loss 0.17038232696914932\n",
      "nut training loss 0.1299912472812764 nut eval loss 0.18968974458208376\n",
      "eps training loss 0.09989894231085866 eps eval loss 0.14657014168852356\n",
      "k training loss 0.10166832817024288 k eval loss 0.1748870964202143\n",
      "#############\n",
      "\n"
     ]
    },
    {
     "name": "stderr",
     "output_type": "stream",
     "text": [
      "\r",
      " 17%|█████████████▊                                                                   | 34/200 [10:38<51:59, 18.79s/it]"
     ]
    },
    {
     "name": "stdout",
     "output_type": "stream",
     "text": [
      "#############\n",
      "epoch 33:\n",
      "total training loss 0.1079909355097676 total eval loss 0.1728500572560623\n",
      "nut training loss 0.13348247984980047 nut eval loss 0.1976062832279112\n",
      "eps training loss 0.0955392728911331 eps eval loss 0.14994013736330886\n",
      "k training loss 0.09495105658553055 k eval loss 0.17100374616595915\n",
      "#############\n",
      "\n"
     ]
    },
    {
     "name": "stderr",
     "output_type": "stream",
     "text": [
      "\r",
      " 18%|██████████████▏                                                                  | 35/200 [10:54<49:28, 17.99s/it]"
     ]
    },
    {
     "name": "stdout",
     "output_type": "stream",
     "text": [
      "#############\n",
      "epoch 34:\n",
      "total training loss 0.12186406440906877 total eval loss 0.18310904008396175\n",
      "nut training loss 0.1563914463277354 nut eval loss 0.21203851911777113\n",
      "eps training loss 0.10077390120218847 eps eval loss 0.1486250326660197\n",
      "k training loss 0.10842684687272068 k eval loss 0.18866356633845136\n",
      "#############\n",
      "\n"
     ]
    },
    {
     "name": "stderr",
     "output_type": "stream",
     "text": [
      "\r",
      " 18%|██████████████▌                                                                  | 36/200 [11:15<51:02, 18.68s/it]"
     ]
    },
    {
     "name": "stdout",
     "output_type": "stream",
     "text": [
      "#############\n",
      "epoch 35:\n",
      "total training loss 0.1108880382688858 total eval loss 0.1770716932582597\n",
      "nut training loss 0.13635819480742561 nut eval loss 0.20754583588880193\n",
      "eps training loss 0.09712536873792234 eps eval loss 0.14693918914480805\n",
      "k training loss 0.09918054953901553 k eval loss 0.1767300572955403\n",
      "#############\n",
      "\n"
     ]
    },
    {
     "name": "stderr",
     "output_type": "stream",
     "text": [
      "\r",
      " 18%|██████████████▉                                                                  | 37/200 [11:33<50:35, 18.62s/it]"
     ]
    },
    {
     "name": "stdout",
     "output_type": "stream",
     "text": [
      "#############\n",
      "epoch 36:\n",
      "total training loss 0.1072157370331059 total eval loss 0.17293837075308913\n",
      "nut training loss 0.1245751994971114 nut eval loss 0.19246897948502317\n",
      "eps training loss 0.09659829557021218 eps eval loss 0.14856280715120512\n",
      "k training loss 0.10047371641356316 k eval loss 0.17778332940703107\n",
      "#############\n",
      "\n"
     ]
    },
    {
     "name": "stderr",
     "output_type": "stream",
     "text": [
      "\r",
      " 19%|███████████████▍                                                                 | 38/200 [11:55<52:48, 19.56s/it]"
     ]
    },
    {
     "name": "stdout",
     "output_type": "stream",
     "text": [
      "#############\n",
      "epoch 37:\n",
      "total training loss 0.12038365337322514 total eval loss 0.18382570731002046\n",
      "nut training loss 0.14500947680558432 nut eval loss 0.2109353000639046\n",
      "eps training loss 0.10252168222788714 eps eval loss 0.1515694433429433\n",
      "k training loss 0.11361980136227759 k eval loss 0.18897238145068754\n",
      "#############\n",
      "\n"
     ]
    },
    {
     "name": "stderr",
     "output_type": "stream",
     "text": [
      "\r",
      " 20%|███████████████▊                                                                 | 39/200 [12:15<52:57, 19.74s/it]"
     ]
    },
    {
     "name": "stdout",
     "output_type": "stream",
     "text": [
      "#############\n",
      "epoch 38:\n",
      "total training loss 0.14286178608482528 total eval loss 0.2010417411292886\n",
      "nut training loss 0.19123876685053895 nut eval loss 0.24945437092076095\n",
      "eps training loss 0.09987219190927372 eps eval loss 0.1462933297799021\n",
      "k training loss 0.13747440096315708 k eval loss 0.20737752241869414\n",
      "#############\n",
      "\n"
     ]
    },
    {
     "name": "stderr",
     "output_type": "stream",
     "text": [
      "\r",
      " 20%|████████████████▏                                                                | 40/200 [12:36<53:25, 20.03s/it]"
     ]
    },
    {
     "name": "stdout",
     "output_type": "stream",
     "text": [
      "#############\n",
      "epoch 39:\n",
      "total training loss 0.1078900108636765 total eval loss 0.1583452246491703\n",
      "nut training loss 0.1263949650920805 nut eval loss 0.177593720666718\n",
      "eps training loss 0.10172959952160249 eps eval loss 0.14585389607832747\n",
      "k training loss 0.09554546489793038 k eval loss 0.1515880540703697\n",
      "#############\n",
      "\n"
     ]
    },
    {
     "name": "stderr",
     "output_type": "stream",
     "text": [
      "\r",
      " 20%|████████████████▌                                                                | 41/200 [12:55<52:08, 19.68s/it]"
     ]
    },
    {
     "name": "stdout",
     "output_type": "stream",
     "text": [
      "#############\n",
      "epoch 40:\n",
      "total training loss 0.10290736378340203 total eval loss 0.16104466541531004\n",
      "nut training loss 0.12185650661260468 nut eval loss 0.17991518200609052\n",
      "eps training loss 0.098238046809403 eps eval loss 0.14501088507386037\n",
      "k training loss 0.08862753802809058 k eval loss 0.15820792808526496\n",
      "#############\n",
      "\n"
     ]
    },
    {
     "name": "stderr",
     "output_type": "stream",
     "text": [
      "\r",
      " 21%|█████████████████                                                                | 42/200 [13:12<50:16, 19.09s/it]"
     ]
    },
    {
     "name": "stdout",
     "output_type": "stream",
     "text": [
      "#############\n",
      "epoch 41:\n",
      "total training loss 0.11718343721263622 total eval loss 0.18165628144815338\n",
      "nut training loss 0.1317983558442105 nut eval loss 0.2147911515736919\n",
      "eps training loss 0.09945371155343752 eps eval loss 0.14277339549302642\n",
      "k training loss 0.12029824419762965 k eval loss 0.18740429882784143\n",
      "#############\n",
      "\n"
     ]
    },
    {
     "name": "stderr",
     "output_type": "stream",
     "text": [
      "\r",
      " 22%|█████████████████▍                                                               | 43/200 [13:31<49:37, 18.97s/it]"
     ]
    },
    {
     "name": "stdout",
     "output_type": "stream",
     "text": [
      "#############\n",
      "epoch 42:\n",
      "total training loss 0.10999782482862641 total eval loss 0.17109447381331644\n",
      "nut training loss 0.13117109887846914 nut eval loss 0.20429598831303275\n",
      "eps training loss 0.09733435165844376 eps eval loss 0.14790960157930327\n",
      "k training loss 0.10148802529126623 k eval loss 0.1610778327427625\n",
      "#############\n",
      "\n"
     ]
    },
    {
     "name": "stderr",
     "output_type": "stream",
     "text": [
      "\r",
      " 22%|█████████████████▊                                                               | 44/200 [13:50<49:03, 18.87s/it]"
     ]
    },
    {
     "name": "stdout",
     "output_type": "stream",
     "text": [
      "#############\n",
      "epoch 43:\n",
      "total training loss 0.09658935881039897 total eval loss 0.16147513123167356\n",
      "nut training loss 0.1122746016758581 nut eval loss 0.18565665276347249\n",
      "eps training loss 0.09407864647884863 eps eval loss 0.14511960858920128\n",
      "k training loss 0.08341482559301742 k eval loss 0.15364913467709548\n",
      "#############\n",
      "\n"
     ]
    },
    {
     "name": "stderr",
     "output_type": "stream",
     "text": [
      "\r",
      " 22%|██████████████████▏                                                              | 45/200 [14:16<54:37, 21.14s/it]"
     ]
    },
    {
     "name": "stdout",
     "output_type": "stream",
     "text": [
      "#############\n",
      "epoch 44:\n",
      "total training loss 0.11156373243477938 total eval loss 0.18549150847958962\n",
      "nut training loss 0.13757720159113637 nut eval loss 0.2263481118050828\n",
      "eps training loss 0.09591350044574272 eps eval loss 0.14758849561476312\n",
      "k training loss 0.10120049194774076 k eval loss 0.18253792105155595\n",
      "#############\n",
      "\n"
     ]
    },
    {
     "name": "stderr",
     "output_type": "stream",
     "text": [
      "\r",
      " 23%|██████████████████▋                                                              | 46/200 [14:37<53:53, 21.00s/it]"
     ]
    },
    {
     "name": "stdout",
     "output_type": "stream",
     "text": [
      "#############\n",
      "epoch 45:\n",
      "total training loss 0.10877719518911462 total eval loss 0.17085004854628014\n",
      "nut training loss 0.12847485002640918 nut eval loss 0.19910841235233592\n",
      "eps training loss 0.09735552706315091 eps eval loss 0.14653764183173568\n",
      "k training loss 0.1005012045929401 k eval loss 0.16690409360738465\n",
      "#############\n",
      "\n"
     ]
    },
    {
     "name": "stderr",
     "output_type": "stream",
     "text": [
      "\r",
      " 24%|███████████████████                                                              | 47/200 [14:57<53:13, 20.88s/it]"
     ]
    },
    {
     "name": "stdout",
     "output_type": "stream",
     "text": [
      "#############\n",
      "epoch 46:\n",
      "total training loss 0.1034654652050484 total eval loss 0.1727278037561394\n",
      "nut training loss 0.125516636602687 nut eval loss 0.1837120670660644\n",
      "eps training loss 0.0912615242930154 eps eval loss 0.16370742160275678\n",
      "k training loss 0.09361823515777734 k eval loss 0.17076392173632832\n",
      "#############\n",
      "\n"
     ]
    },
    {
     "name": "stderr",
     "output_type": "stream",
     "text": [
      "\r",
      " 24%|███████████████████▍                                                             | 48/200 [15:18<53:04, 20.95s/it]"
     ]
    },
    {
     "name": "stdout",
     "output_type": "stream",
     "text": [
      "#############\n",
      "epoch 47:\n",
      "total training loss 0.10766025449988645 total eval loss 0.16992659208727207\n",
      "nut training loss 0.12829991875913418 nut eval loss 0.19595196714559454\n",
      "eps training loss 0.09677318813277545 eps eval loss 0.1625325477160736\n",
      "k training loss 0.09790765527351726 k eval loss 0.1512952596464753\n",
      "#############\n",
      "\n"
     ]
    },
    {
     "name": "stderr",
     "output_type": "stream",
     "text": [
      "\r",
      " 24%|███████████████████▊                                                             | 49/200 [15:39<52:33, 20.88s/it]"
     ]
    },
    {
     "name": "stdout",
     "output_type": "stream",
     "text": [
      "#############\n",
      "epoch 48:\n",
      "total training loss 0.11404136840722001 total eval loss 0.18569091686718525\n",
      "nut training loss 0.14192797324501583 nut eval loss 0.2120293192318837\n",
      "eps training loss 0.0941640992134738 eps eval loss 0.1574997311582964\n",
      "k training loss 0.10603203004287443 k eval loss 0.18754370029078246\n",
      "#############\n",
      "\n"
     ]
    },
    {
     "name": "stderr",
     "output_type": "stream",
     "text": [
      "\r",
      " 25%|████████████████████▎                                                            | 50/200 [16:00<52:09, 20.86s/it]"
     ]
    },
    {
     "name": "stdout",
     "output_type": "stream",
     "text": [
      "#############\n",
      "epoch 49:\n",
      "total training loss 0.10442760850924665 total eval loss 0.17289649885287162\n",
      "nut training loss 0.12417605113783205 nut eval loss 0.19616801852722648\n",
      "eps training loss 0.10113828929059362 eps eval loss 0.1548931226182353\n",
      "k training loss 0.08796848389065666 k eval loss 0.1676283558279041\n",
      "#############\n",
      "\n"
     ]
    },
    {
     "name": "stderr",
     "output_type": "stream",
     "text": [
      "\r",
      " 26%|████████████████████▋                                                            | 51/200 [16:25<54:59, 22.15s/it]"
     ]
    },
    {
     "name": "stdout",
     "output_type": "stream",
     "text": [
      "#############\n",
      "epoch 50:\n",
      "total training loss 0.12046594705341628 total eval loss 0.17544432548046057\n",
      "nut training loss 0.1502260121074349 nut eval loss 0.19836269722146074\n",
      "eps training loss 0.09798097640448601 eps eval loss 0.148296004452409\n",
      "k training loss 0.11319085194568168 k eval loss 0.17967427606553915\n",
      "#############\n",
      "\n"
     ]
    },
    {
     "name": "stderr",
     "output_type": "stream",
     "text": [
      "\r",
      " 26%|█████████████████████                                                            | 52/200 [16:44<52:18, 21.20s/it]"
     ]
    },
    {
     "name": "stdout",
     "output_type": "stream",
     "text": [
      "#############\n",
      "epoch 51:\n",
      "total training loss 0.11087072029629319 total eval loss 0.1737070298554295\n",
      "nut training loss 0.13642205072915453 nut eval loss 0.19733721396652287\n",
      "eps training loss 0.09190805179716666 eps eval loss 0.15368566067874861\n",
      "k training loss 0.10428206062609974 k eval loss 0.17009821304583583\n",
      "#############\n",
      "\n"
     ]
    },
    {
     "name": "stderr",
     "output_type": "stream",
     "text": [
      "\r",
      " 26%|█████████████████████▍                                                           | 53/200 [17:03<50:08, 20.46s/it]"
     ]
    },
    {
     "name": "stdout",
     "output_type": "stream",
     "text": [
      "#############\n",
      "epoch 52:\n",
      "total training loss 0.10963019942585764 total eval loss 0.1674462772833842\n",
      "nut training loss 0.13709663832385402 nut eval loss 0.18845351916403102\n",
      "eps training loss 0.09404258929541984 eps eval loss 0.1536802565742856\n",
      "k training loss 0.09775136762474186 k eval loss 0.1602050545203848\n",
      "#############\n",
      "\n"
     ]
    },
    {
     "name": "stderr",
     "output_type": "stream",
     "text": [
      "\r",
      " 27%|█████████████████████▊                                                           | 54/200 [17:24<50:22, 20.70s/it]"
     ]
    },
    {
     "name": "stdout",
     "output_type": "stream",
     "text": [
      "#############\n",
      "epoch 53:\n",
      "total training loss 0.11199187997483943 total eval loss 0.18023194816608643\n",
      "nut training loss 0.13891706921535016 nut eval loss 0.20835233522847627\n",
      "eps training loss 0.09179144307664502 eps eval loss 0.15911316682746562\n",
      "k training loss 0.1052671285665688 k eval loss 0.1732303446524506\n",
      "#############\n",
      "\n"
     ]
    },
    {
     "name": "stderr",
     "output_type": "stream",
     "text": [
      "\r",
      " 28%|██████████████████████▎                                                          | 55/200 [17:42<48:20, 20.00s/it]"
     ]
    },
    {
     "name": "stdout",
     "output_type": "stream",
     "text": [
      "#############\n",
      "epoch 54:\n",
      "total training loss 0.10937255032047494 total eval loss 0.1761506436445043\n",
      "nut training loss 0.1295387061271921 nut eval loss 0.19204032852653247\n",
      "eps training loss 0.09895748303668561 eps eval loss 0.17426336294749828\n",
      "k training loss 0.0996214624104144 k eval loss 0.16214823706645257\n",
      "#############\n",
      "\n"
     ]
    },
    {
     "name": "stderr",
     "output_type": "stream",
     "text": [
      "\r",
      " 28%|██████████████████████▋                                                          | 56/200 [18:00<46:26, 19.35s/it]"
     ]
    },
    {
     "name": "stdout",
     "output_type": "stream",
     "text": [
      "#############\n",
      "epoch 55:\n",
      "total training loss 0.1218364905798006 total eval loss 0.18843532280453423\n",
      "nut training loss 0.1572102990720035 nut eval loss 0.21863061167216055\n",
      "eps training loss 0.09804379411420541 eps eval loss 0.16279599078016468\n",
      "k training loss 0.11025537841390895 k eval loss 0.1838793669446246\n",
      "#############\n",
      "\n"
     ]
    },
    {
     "name": "stderr",
     "output_type": "stream",
     "text": [
      "\r",
      " 28%|███████████████████████                                                          | 57/200 [18:19<45:45, 19.20s/it]"
     ]
    },
    {
     "name": "stdout",
     "output_type": "stream",
     "text": [
      "#############\n",
      "epoch 56:\n",
      "total training loss 0.10446638741754276 total eval loss 0.16528149583971902\n",
      "nut training loss 0.12518605964567447 nut eval loss 0.18710571034926934\n",
      "eps training loss 0.09710545982657538 eps eval loss 0.15234084078409446\n",
      "k training loss 0.09110764479656935 k eval loss 0.1563979358764472\n",
      "#############\n",
      "\n"
     ]
    },
    {
     "name": "stderr",
     "output_type": "stream",
     "text": [
      "\r",
      " 29%|███████████████████████▍                                                         | 58/200 [18:39<45:44, 19.33s/it]"
     ]
    },
    {
     "name": "stdout",
     "output_type": "stream",
     "text": [
      "#############\n",
      "epoch 57:\n",
      "total training loss 0.09765936937387056 total eval loss 0.15622374361669475\n",
      "nut training loss 0.11687458563967795 nut eval loss 0.17774625045523879\n",
      "eps training loss 0.09407857029033335 eps eval loss 0.14710645147271245\n",
      "k training loss 0.08202495584562154 k eval loss 0.14381852659602273\n",
      "#############\n",
      "\n"
     ]
    },
    {
     "name": "stderr",
     "output_type": "stream",
     "text": [
      "\r",
      " 30%|███████████████████████▉                                                         | 59/200 [18:57<44:29, 18.93s/it]"
     ]
    },
    {
     "name": "stdout",
     "output_type": "stream",
     "text": [
      "#############\n",
      "epoch 58:\n",
      "total training loss 0.09819021419683152 total eval loss 0.165053133406608\n",
      "nut training loss 0.1133398169913677 nut eval loss 0.18027413690985356\n",
      "eps training loss 0.09021208672638989 eps eval loss 0.1551131952286969\n",
      "k training loss 0.09101873677180386 k eval loss 0.15977206851685508\n",
      "#############\n",
      "\n"
     ]
    },
    {
     "name": "stderr",
     "output_type": "stream",
     "text": [
      "\r",
      " 30%|████████████████████████▎                                                        | 60/200 [19:15<43:25, 18.61s/it]"
     ]
    },
    {
     "name": "stdout",
     "output_type": "stream",
     "text": [
      "#############\n",
      "epoch 59:\n",
      "total training loss 0.10593332104214111 total eval loss 0.1767755124984659\n",
      "nut training loss 0.1278301464815317 nut eval loss 0.19316965112041742\n",
      "eps training loss 0.0875372969311332 eps eval loss 0.158523157156349\n",
      "k training loss 0.10243251673111083 k eval loss 0.17863372853567705\n",
      "#############\n",
      "\n"
     ]
    },
    {
     "name": "stderr",
     "output_type": "stream",
     "text": [
      "\r",
      " 30%|████████████████████████▋                                                        | 61/200 [19:33<43:08, 18.62s/it]"
     ]
    },
    {
     "name": "stdout",
     "output_type": "stream",
     "text": [
      "#############\n",
      "epoch 60:\n",
      "total training loss 0.16331804797314417 total eval loss 0.22359966235631135\n",
      "nut training loss 0.21118787041252365 nut eval loss 0.2623394346575235\n",
      "eps training loss 0.10191130978125292 eps eval loss 0.18289633466795086\n",
      "k training loss 0.17685496406006476 k eval loss 0.2255632147686442\n",
      "#############\n",
      "\n"
     ]
    },
    {
     "name": "stderr",
     "output_type": "stream",
     "text": [
      "\r",
      " 31%|█████████████████████████                                                        | 62/200 [19:52<42:47, 18.61s/it]"
     ]
    },
    {
     "name": "stdout",
     "output_type": "stream",
     "text": [
      "#############\n",
      "epoch 61:\n",
      "total training loss 0.11104845256189591 total eval loss 0.16446950567646482\n",
      "nut training loss 0.1291561676060783 nut eval loss 0.1836644271986015\n",
      "eps training loss 0.09935365483479716 eps eval loss 0.15391854532731167\n",
      "k training loss 0.10463553713381143 k eval loss 0.1558255432147828\n",
      "#############\n",
      "\n"
     ]
    },
    {
     "name": "stderr",
     "output_type": "stream",
     "text": [
      "\r",
      " 32%|█████████████████████████▌                                                       | 63/200 [20:10<42:05, 18.44s/it]"
     ]
    },
    {
     "name": "stdout",
     "output_type": "stream",
     "text": [
      "#############\n",
      "epoch 62:\n",
      "total training loss 0.10460068323532062 total eval loss 0.1690051115553429\n",
      "nut training loss 0.12309356378100798 nut eval loss 0.19620543896051568\n",
      "eps training loss 0.10033609885420292 eps eval loss 0.1615233528294197\n",
      "k training loss 0.09037238576408521 k eval loss 0.14928654428689145\n",
      "#############\n",
      "\n"
     ]
    },
    {
     "name": "stderr",
     "output_type": "stream",
     "text": [
      "\r",
      " 32%|█████████████████████████▉                                                       | 64/200 [20:33<45:00, 19.86s/it]"
     ]
    },
    {
     "name": "stdout",
     "output_type": "stream",
     "text": [
      "#############\n",
      "epoch 63:\n",
      "total training loss 0.10477549172184084 total eval loss 0.16163720309159912\n",
      "nut training loss 0.12875582932687285 nut eval loss 0.18060675086117606\n",
      "eps training loss 0.09432218421399206 eps eval loss 0.15535127888248484\n",
      "k training loss 0.09124846024402815 k eval loss 0.14895357955170271\n",
      "#############\n",
      "\n"
     ]
    },
    {
     "name": "stderr",
     "output_type": "stream",
     "text": [
      "\r",
      " 32%|██████████████████████████▎                                                      | 65/200 [20:53<44:28, 19.77s/it]"
     ]
    },
    {
     "name": "stdout",
     "output_type": "stream",
     "text": [
      "#############\n",
      "epoch 64:\n",
      "total training loss 0.09752888754860599 total eval loss 0.16013550120771455\n",
      "nut training loss 0.11261541962005042 nut eval loss 0.1794701090260229\n",
      "eps training loss 0.09770203234373331 eps eval loss 0.15445293167433247\n",
      "k training loss 0.0822692074121125 k eval loss 0.1464834622534426\n",
      "#############\n",
      "\n"
     ]
    },
    {
     "name": "stderr",
     "output_type": "stream",
     "text": [
      "\r",
      " 33%|██████████████████████████▋                                                      | 66/200 [21:10<42:25, 18.99s/it]"
     ]
    },
    {
     "name": "stdout",
     "output_type": "stream",
     "text": [
      "#############\n",
      "epoch 65:\n",
      "total training loss 0.11085880259073433 total eval loss 0.16500958771067709\n",
      "nut training loss 0.13721098243044524 nut eval loss 0.18416567927995847\n",
      "eps training loss 0.09441507136429482 eps eval loss 0.15290572410768907\n",
      "k training loss 0.10095034911293259 k eval loss 0.15795736250475853\n",
      "#############\n",
      "\n"
     ]
    },
    {
     "name": "stderr",
     "output_type": "stream",
     "text": [
      "\r",
      " 34%|███████████████████████████▏                                                     | 67/200 [21:29<42:26, 19.15s/it]"
     ]
    },
    {
     "name": "stdout",
     "output_type": "stream",
     "text": [
      "#############\n",
      "epoch 66:\n",
      "total training loss 0.10069782904531695 total eval loss 0.1714880775630618\n",
      "nut training loss 0.12242045714491762 nut eval loss 0.19929679466512473\n",
      "eps training loss 0.09532483194091661 eps eval loss 0.154477007516346\n",
      "k training loss 0.0843481975039566 k eval loss 0.16069043071245342\n",
      "#############\n",
      "\n"
     ]
    },
    {
     "name": "stderr",
     "output_type": "stream",
     "text": [
      "\r",
      " 34%|███████████████████████████▌                                                     | 68/200 [21:49<42:39, 19.39s/it]"
     ]
    },
    {
     "name": "stdout",
     "output_type": "stream",
     "text": [
      "#############\n",
      "epoch 67:\n",
      "total training loss 0.12392642048624619 total eval loss 0.19652649035531167\n",
      "nut training loss 0.15568748514031877 nut eval loss 0.23700657618431106\n",
      "eps training loss 0.0986494752032477 eps eval loss 0.17003913850701854\n",
      "k training loss 0.11744229962349344 k eval loss 0.18253375653058454\n",
      "#############\n",
      "\n"
     ]
    },
    {
     "name": "stderr",
     "output_type": "stream",
     "text": [
      "\r",
      " 34%|███████████████████████████▉                                                     | 69/200 [22:07<41:20, 18.93s/it]"
     ]
    },
    {
     "name": "stdout",
     "output_type": "stream",
     "text": [
      "#############\n",
      "epoch 68:\n",
      "total training loss 0.13102179497637376 total eval loss 0.17566435487159568\n",
      "nut training loss 0.16158639318910725 nut eval loss 0.18919469311108653\n",
      "eps training loss 0.09478753064834533 eps eval loss 0.16978174269834423\n",
      "k training loss 0.13669146311356248 k eval loss 0.1680166284655789\n",
      "#############\n",
      "\n"
     ]
    },
    {
     "name": "stderr",
     "output_type": "stream",
     "text": [
      "\r",
      " 35%|████████████████████████████▎                                                    | 70/200 [22:26<40:55, 18.89s/it]"
     ]
    },
    {
     "name": "stdout",
     "output_type": "stream",
     "text": [
      "#############\n",
      "epoch 69:\n",
      "total training loss 0.10213911270259357 total eval loss 0.16043059733599857\n",
      "nut training loss 0.11784945377928512 nut eval loss 0.16668876402536423\n",
      "eps training loss 0.096379395983078 eps eval loss 0.17398243158632587\n",
      "k training loss 0.09218848869162306 k eval loss 0.14062059708853863\n",
      "#############\n",
      "\n"
     ]
    },
    {
     "name": "stderr",
     "output_type": "stream",
     "text": [
      "\r",
      " 36%|████████████████████████████▊                                                    | 71/200 [22:46<41:12, 19.17s/it]"
     ]
    },
    {
     "name": "stdout",
     "output_type": "stream",
     "text": [
      "#############\n",
      "epoch 70:\n",
      "total training loss 0.10254866970840494 total eval loss 0.1600293680842223\n",
      "nut training loss 0.11910839325644373 nut eval loss 0.16943459687368875\n",
      "eps training loss 0.09213763321967217 eps eval loss 0.15758908879993136\n",
      "k training loss 0.09639998178306025 k eval loss 0.15306441740104973\n",
      "#############\n",
      "\n"
     ]
    },
    {
     "name": "stderr",
     "output_type": "stream",
     "text": [
      "\r",
      " 36%|█████████████████████████████▏                                                   | 72/200 [23:08<42:55, 20.12s/it]"
     ]
    },
    {
     "name": "stdout",
     "output_type": "stream",
     "text": [
      "#############\n",
      "epoch 71:\n",
      "total training loss 0.11010370161576231 total eval loss 0.17999041268613478\n",
      "nut training loss 0.12823052484131572 nut eval loss 0.2092649000111774\n",
      "eps training loss 0.09930802924139977 eps eval loss 0.17790057664503042\n",
      "k training loss 0.1027725489490449 k eval loss 0.15280575861032206\n",
      "#############\n",
      "\n"
     ]
    },
    {
     "name": "stderr",
     "output_type": "stream",
     "text": [
      "\r",
      " 36%|█████████████████████████████▌                                                   | 73/200 [23:29<43:15, 20.43s/it]"
     ]
    },
    {
     "name": "stdout",
     "output_type": "stream",
     "text": [
      "#############\n",
      "epoch 72:\n",
      "total training loss 0.11707648990366835 total eval loss 0.18227382849243565\n",
      "nut training loss 0.13850538584145172 nut eval loss 0.198427640255779\n",
      "eps training loss 0.09704236844703863 eps eval loss 0.1772481096800723\n",
      "k training loss 0.11568171498487458 k eval loss 0.1711457388659546\n",
      "#############\n",
      "\n"
     ]
    },
    {
     "name": "stderr",
     "output_type": "stream",
     "text": [
      "\r",
      " 37%|█████████████████████████████▉                                                   | 74/200 [23:49<42:16, 20.13s/it]"
     ]
    },
    {
     "name": "stdout",
     "output_type": "stream",
     "text": [
      "#############\n",
      "epoch 73:\n",
      "total training loss 0.10365393652501144 total eval loss 0.16043335610693557\n",
      "nut training loss 0.11252068370618609 nut eval loss 0.17868112229245553\n",
      "eps training loss 0.10002587246131998 eps eval loss 0.1537789894386053\n",
      "k training loss 0.09841525329636372 k eval loss 0.14883995908312506\n",
      "#############\n",
      "\n"
     ]
    },
    {
     "name": "stderr",
     "output_type": "stream",
     "text": [
      "\r",
      " 38%|██████████████████████████████▍                                                  | 75/200 [24:08<41:25, 19.88s/it]"
     ]
    },
    {
     "name": "stdout",
     "output_type": "stream",
     "text": [
      "#############\n",
      "epoch 74:\n",
      "total training loss 0.11879921599850465 total eval loss 0.18200771760650786\n",
      "nut training loss 0.15904083122407403 nut eval loss 0.2153637393198849\n",
      "eps training loss 0.09365123785410714 eps eval loss 0.16645339364049233\n",
      "k training loss 0.103705580892643 k eval loss 0.16420602315666064\n",
      "#############\n",
      "\n"
     ]
    },
    {
     "name": "stderr",
     "output_type": "stream",
     "text": [
      "\r",
      " 38%|██████████████████████████████▊                                                  | 76/200 [24:26<39:54, 19.31s/it]"
     ]
    },
    {
     "name": "stdout",
     "output_type": "stream",
     "text": [
      "#############\n",
      "epoch 75:\n",
      "total training loss 0.09847998580867617 total eval loss 0.15676354140546722\n",
      "nut training loss 0.11449880124406421 nut eval loss 0.1753386948447409\n",
      "eps training loss 0.09695305231360093 eps eval loss 0.15594861208091074\n",
      "k training loss 0.0839881044084243 k eval loss 0.1390033165936248\n",
      "#############\n",
      "\n"
     ]
    },
    {
     "name": "stderr",
     "output_type": "stream",
     "text": [
      "\r",
      " 38%|███████████████████████████████▏                                                 | 77/200 [24:46<40:14, 19.63s/it]"
     ]
    },
    {
     "name": "stdout",
     "output_type": "stream",
     "text": [
      "#############\n",
      "epoch 76:\n",
      "total training loss 0.10091823351584868 total eval loss 0.16143819888683972\n",
      "nut training loss 0.12016081911023441 nut eval loss 0.17614656397676456\n",
      "eps training loss 0.09555191129247868 eps eval loss 0.16287592244164203\n",
      "k training loss 0.08704196912292535 k eval loss 0.14529211495600783\n",
      "#############\n",
      "\n"
     ]
    },
    {
     "name": "stderr",
     "output_type": "stream",
     "text": [
      "\r",
      " 39%|███████████████████████████████▌                                                 | 78/200 [25:06<40:03, 19.70s/it]"
     ]
    },
    {
     "name": "stdout",
     "output_type": "stream",
     "text": [
      "#############\n",
      "epoch 77:\n",
      "total training loss 0.09961405697131583 total eval loss 0.1728917212759989\n",
      "nut training loss 0.11648017860163017 nut eval loss 0.18997880358469244\n",
      "eps training loss 0.09450790873391153 eps eval loss 0.16970716143080908\n",
      "k training loss 0.08785408142464432 k eval loss 0.15898919944031148\n",
      "#############\n",
      "\n"
     ]
    },
    {
     "name": "stderr",
     "output_type": "stream",
     "text": [
      "\r",
      " 40%|███████████████████████████████▉                                                 | 79/200 [25:24<38:46, 19.23s/it]"
     ]
    },
    {
     "name": "stdout",
     "output_type": "stream",
     "text": [
      "#############\n",
      "epoch 78:\n",
      "total training loss 0.10907216414713578 total eval loss 0.17911705328476296\n",
      "nut training loss 0.13380878881502495 nut eval loss 0.1865161544529924\n",
      "eps training loss 0.09356534054576231 eps eval loss 0.17305544363578437\n",
      "k training loss 0.09984236346498349 k eval loss 0.17777955942403098\n",
      "#############\n",
      "\n"
     ]
    },
    {
     "name": "stderr",
     "output_type": "stream",
     "text": [
      "\r",
      " 40%|████████████████████████████████▍                                                | 80/200 [25:45<39:21, 19.68s/it]"
     ]
    },
    {
     "name": "stdout",
     "output_type": "stream",
     "text": [
      "#############\n",
      "epoch 79:\n",
      "total training loss 0.10855328002322691 total eval loss 0.1823194256608047\n",
      "nut training loss 0.12595745910167885 nut eval loss 0.20452178489612544\n",
      "eps training loss 0.09487533179893766 eps eval loss 0.16383474144691748\n",
      "k training loss 0.10482704773619939 k eval loss 0.178601748876153\n",
      "#############\n",
      "\n"
     ]
    },
    {
     "name": "stderr",
     "output_type": "stream",
     "text": [
      "\r",
      " 40%|████████████████████████████████▊                                                | 81/200 [26:06<39:30, 19.92s/it]"
     ]
    },
    {
     "name": "stdout",
     "output_type": "stream",
     "text": [
      "#############\n",
      "epoch 80:\n",
      "total training loss 0.11307722933689189 total eval loss 0.18173727649227958\n",
      "nut training loss 0.13213529296259507 nut eval loss 0.19647101514724943\n",
      "eps training loss 0.09457917922629118 eps eval loss 0.1773688385583918\n",
      "k training loss 0.11251721435779083 k eval loss 0.17137197677045496\n",
      "#############\n",
      "\n"
     ]
    },
    {
     "name": "stderr",
     "output_type": "stream",
     "text": [
      "\r",
      " 41%|█████████████████████████████████▏                                               | 82/200 [26:24<38:05, 19.37s/it]"
     ]
    },
    {
     "name": "stdout",
     "output_type": "stream",
     "text": [
      "#############\n",
      "epoch 81:\n",
      "total training loss 0.11800016763109519 total eval loss 0.1637915325017107\n",
      "nut training loss 0.14233914939065945 nut eval loss 0.18327744777784488\n",
      "eps training loss 0.10656313674864784 eps eval loss 0.14987840951575182\n",
      "k training loss 0.10509821477488653 k eval loss 0.15821874182761958\n",
      "#############\n",
      "\n"
     ]
    },
    {
     "name": "stderr",
     "output_type": "stream",
     "text": [
      "\r",
      " 42%|█████████████████████████████████▌                                               | 83/200 [26:41<36:48, 18.88s/it]"
     ]
    },
    {
     "name": "stdout",
     "output_type": "stream",
     "text": [
      "#############\n",
      "epoch 82:\n",
      "total training loss 0.10754696542786368 total eval loss 0.1686563335386597\n",
      "nut training loss 0.13741682952233514 nut eval loss 0.18802939313051145\n",
      "eps training loss 0.09594204199918656 eps eval loss 0.1607257783817681\n",
      "k training loss 0.08928202266899174 k eval loss 0.1572138276890806\n",
      "#############\n",
      "\n"
     ]
    },
    {
     "name": "stderr",
     "output_type": "stream",
     "text": [
      "\r",
      " 42%|██████████████████████████████████                                               | 84/200 [26:59<35:45, 18.49s/it]"
     ]
    },
    {
     "name": "stdout",
     "output_type": "stream",
     "text": [
      "#############\n",
      "epoch 83:\n",
      "total training loss 0.13142733311209145 total eval loss 0.19782522813385162\n",
      "nut training loss 0.17327958963467796 nut eval loss 0.22436818091330116\n",
      "eps training loss 0.09805343020593527 eps eval loss 0.18671244336569012\n",
      "k training loss 0.12294897811164654 k eval loss 0.18239506303152803\n",
      "#############\n",
      "\n"
     ]
    },
    {
     "name": "stderr",
     "output_type": "stream",
     "text": [
      "\r",
      " 42%|██████████████████████████████████▍                                              | 85/200 [27:16<34:32, 18.02s/it]"
     ]
    },
    {
     "name": "stdout",
     "output_type": "stream",
     "text": [
      "#############\n",
      "epoch 84:\n",
      "total training loss 0.09864376494726484 total eval loss 0.1596571748173307\n",
      "nut training loss 0.12108554721548032 nut eval loss 0.17232369434032344\n",
      "eps training loss 0.09494621915306094 eps eval loss 0.16453533553315094\n",
      "k training loss 0.07989952781221822 k eval loss 0.14211249624892372\n",
      "#############\n",
      "\n"
     ]
    },
    {
     "name": "stderr",
     "output_type": "stream",
     "text": [
      "\r",
      " 43%|██████████████████████████████████▊                                              | 86/200 [27:33<33:31, 17.65s/it]"
     ]
    },
    {
     "name": "stdout",
     "output_type": "stream",
     "text": [
      "#############\n",
      "epoch 85:\n",
      "total training loss 0.09733428056164496 total eval loss 0.17387751546152622\n",
      "nut training loss 0.11654572137668144 nut eval loss 0.1802886339962375\n",
      "eps training loss 0.09217588886732561 eps eval loss 0.1912595704578037\n",
      "k training loss 0.08328122913428478 k eval loss 0.1500843451864821\n",
      "#############\n",
      "\n"
     ]
    },
    {
     "name": "stderr",
     "output_type": "stream",
     "text": [
      "\r",
      " 44%|███████████████████████████████████▏                                             | 87/200 [27:56<36:20, 19.30s/it]"
     ]
    },
    {
     "name": "stdout",
     "output_type": "stream",
     "text": [
      "#############\n",
      "epoch 86:\n",
      "total training loss 0.10513346614041905 total eval loss 0.18414522057162075\n",
      "nut training loss 0.12320828277971381 nut eval loss 0.1890774700818209\n",
      "eps training loss 0.09281325748553389 eps eval loss 0.20052536086135417\n",
      "k training loss 0.09937885905790847 k eval loss 0.1628328323328689\n",
      "#############\n",
      "\n"
     ]
    },
    {
     "name": "stderr",
     "output_type": "stream",
     "text": [
      "\r",
      " 44%|███████████████████████████████████▋                                             | 88/200 [28:14<35:34, 19.06s/it]"
     ]
    },
    {
     "name": "stdout",
     "output_type": "stream",
     "text": [
      "#############\n",
      "epoch 87:\n",
      "total training loss 0.09666301364263281 total eval loss 0.16818228680335257\n",
      "nut training loss 0.11454569221419768 nut eval loss 0.1710551609581224\n",
      "eps training loss 0.09030349165834198 eps eval loss 0.18512623294534908\n",
      "k training loss 0.0851398537904983 k eval loss 0.14836546492657066\n",
      "#############\n",
      "\n"
     ]
    },
    {
     "name": "stderr",
     "output_type": "stream",
     "text": [
      "\r",
      " 44%|████████████████████████████████████                                             | 89/200 [28:33<35:07, 18.99s/it]"
     ]
    },
    {
     "name": "stdout",
     "output_type": "stream",
     "text": [
      "#############\n",
      "epoch 88:\n",
      "total training loss 0.098502536090573 total eval loss 0.1693712973610706\n",
      "nut training loss 0.11016996399307107 nut eval loss 0.17360869089740325\n",
      "eps training loss 0.09539738280944014 eps eval loss 0.19239144589781654\n",
      "k training loss 0.08994025993168546 k eval loss 0.1421137498808604\n",
      "#############\n",
      "\n"
     ]
    },
    {
     "name": "stderr",
     "output_type": "stream",
     "text": [
      "\r",
      " 45%|████████████████████████████████████▍                                            | 90/200 [28:51<34:18, 18.72s/it]"
     ]
    },
    {
     "name": "stdout",
     "output_type": "stream",
     "text": [
      "#############\n",
      "epoch 89:\n",
      "total training loss 0.09853752213774111 total eval loss 0.1654463437174774\n",
      "nut training loss 0.11238832340351095 nut eval loss 0.19425118766934374\n",
      "eps training loss 0.09692227092207428 eps eval loss 0.14071962759998383\n",
      "k training loss 0.08630197167209203 k eval loss 0.16136821501352341\n",
      "#############\n",
      "\n"
     ]
    },
    {
     "name": "stderr",
     "output_type": "stream",
     "text": [
      "\r",
      " 46%|████████████████████████████████████▊                                            | 91/200 [29:10<34:04, 18.75s/it]"
     ]
    },
    {
     "name": "stdout",
     "output_type": "stream",
     "text": [
      "#############\n",
      "epoch 90:\n",
      "total training loss 0.10564381738035894 total eval loss 0.19910093825403874\n",
      "nut training loss 0.13492049490847333 nut eval loss 0.2061275372111486\n",
      "eps training loss 0.08601222696997239 eps eval loss 0.2059881903946589\n",
      "k training loss 0.09599872834302237 k eval loss 0.185187089508468\n",
      "#############\n",
      "\n"
     ]
    },
    {
     "name": "stderr",
     "output_type": "stream",
     "text": [
      "\r",
      " 46%|█████████████████████████████████████▎                                           | 92/200 [29:28<33:09, 18.42s/it]"
     ]
    },
    {
     "name": "stdout",
     "output_type": "stream",
     "text": [
      "#############\n",
      "epoch 91:\n",
      "total training loss 0.10357132593902321 total eval loss 0.17620352763893588\n",
      "nut training loss 0.11981723146588975 nut eval loss 0.17903114600572154\n",
      "eps training loss 0.098656067696467 eps eval loss 0.1929544556184242\n",
      "k training loss 0.09224068103960945 k eval loss 0.1566249838162719\n",
      "#############\n",
      "\n"
     ]
    },
    {
     "name": "stderr",
     "output_type": "stream",
     "text": [
      "\r",
      " 46%|█████████████████████████████████████▋                                           | 93/200 [29:50<34:49, 19.53s/it]"
     ]
    },
    {
     "name": "stdout",
     "output_type": "stream",
     "text": [
      "#############\n",
      "epoch 92:\n",
      "total training loss 0.09988860306604494 total eval loss 0.16987422764287483\n",
      "nut training loss 0.11848802866787414 nut eval loss 0.16533553457970002\n",
      "eps training loss 0.09423287611096876 eps eval loss 0.19642241783590206\n",
      "k training loss 0.08694490693901144 k eval loss 0.1478647302425458\n",
      "#############\n",
      "\n"
     ]
    },
    {
     "name": "stderr",
     "output_type": "stream",
     "text": [
      "\r",
      " 47%|██████████████████████████████████████                                           | 94/200 [30:11<35:11, 19.92s/it]"
     ]
    },
    {
     "name": "stdout",
     "output_type": "stream",
     "text": [
      "#############\n",
      "epoch 93:\n",
      "total training loss 0.09543127389308012 total eval loss 0.17102966911402795\n",
      "nut training loss 0.11203486942927479 nut eval loss 0.16575574755103079\n",
      "eps training loss 0.08911612831911972 eps eval loss 0.2054081422801951\n",
      "k training loss 0.08514282589440482 k eval loss 0.14192511398085778\n",
      "#############\n",
      "\n"
     ]
    },
    {
     "name": "stderr",
     "output_type": "stream",
     "text": [
      "\r",
      " 48%|██████████████████████████████████████▍                                          | 95/200 [30:30<34:40, 19.81s/it]"
     ]
    },
    {
     "name": "stdout",
     "output_type": "stream",
     "text": [
      "#############\n",
      "epoch 94:\n",
      "total training loss 0.10556661550408761 total eval loss 0.18621520268231806\n",
      "nut training loss 0.13260281494319623 nut eval loss 0.19335178443042086\n",
      "eps training loss 0.08553352848870555 eps eval loss 0.20312318591961995\n",
      "k training loss 0.09856350426950827 k eval loss 0.16217063935161571\n",
      "#############\n",
      "\n"
     ]
    },
    {
     "name": "stderr",
     "output_type": "stream",
     "text": [
      "\r",
      " 48%|██████████████████████████████████████▉                                          | 96/200 [30:49<33:37, 19.40s/it]"
     ]
    },
    {
     "name": "stdout",
     "output_type": "stream",
     "text": [
      "#############\n",
      "epoch 95:\n",
      "total training loss 0.09354058997581038 total eval loss 0.1632287037431294\n",
      "nut training loss 0.11141005370094523 nut eval loss 0.15641021102239613\n",
      "eps training loss 0.08639328251148137 eps eval loss 0.1878569906869553\n",
      "k training loss 0.08281843272514142 k eval loss 0.14541890638442112\n",
      "#############\n",
      "\n"
     ]
    },
    {
     "name": "stderr",
     "output_type": "stream",
     "text": [
      "\r",
      " 48%|███████████████████████████████████████▎                                         | 97/200 [31:08<33:13, 19.35s/it]"
     ]
    },
    {
     "name": "stdout",
     "output_type": "stream",
     "text": [
      "#############\n",
      "epoch 96:\n",
      "total training loss 0.09715645096189922 total eval loss 0.1772277348066994\n",
      "nut training loss 0.11334306189632862 nut eval loss 0.171867270668807\n",
      "eps training loss 0.0892841569296387 eps eval loss 0.21411581489819806\n",
      "k training loss 0.08884213367989188 k eval loss 0.14570011514651007\n",
      "#############\n",
      "\n"
     ]
    },
    {
     "name": "stderr",
     "output_type": "stream",
     "text": [
      "\r",
      " 49%|███████████████████████████████████████▋                                         | 98/200 [31:27<32:37, 19.19s/it]"
     ]
    },
    {
     "name": "stdout",
     "output_type": "stream",
     "text": [
      "#############\n",
      "epoch 97:\n",
      "total training loss 0.11468250063981775 total eval loss 0.20330461284400644\n",
      "nut training loss 0.14308869493699106 nut eval loss 0.20356415869548924\n",
      "eps training loss 0.09336120138342073 eps eval loss 0.2272967462390895\n",
      "k training loss 0.10759760508806793 k eval loss 0.17905293843815892\n",
      "#############\n",
      "\n"
     ]
    },
    {
     "name": "stderr",
     "output_type": "stream",
     "text": [
      "\r",
      " 50%|████████████████████████████████████████                                         | 99/200 [31:49<33:44, 20.04s/it]"
     ]
    },
    {
     "name": "stdout",
     "output_type": "stream",
     "text": [
      "#############\n",
      "epoch 98:\n",
      "total training loss 0.12662222416415037 total eval loss 0.22048157195679455\n",
      "nut training loss 0.17267860251812833 nut eval loss 0.2993118810837777\n",
      "eps training loss 0.08974553594902947 eps eval loss 0.17166563878649488\n",
      "k training loss 0.11744253184287032 k eval loss 0.19046719949486499\n",
      "#############\n",
      "\n"
     ]
    },
    {
     "name": "stderr",
     "output_type": "stream",
     "text": [
      "\r",
      " 50%|████████████████████████████████████████                                        | 100/200 [32:08<33:14, 19.94s/it]"
     ]
    },
    {
     "name": "stdout",
     "output_type": "stream",
     "text": [
      "#############\n",
      "epoch 99:\n",
      "total training loss 0.10789605188965468 total eval loss 0.20525515535493713\n",
      "nut training loss 0.1241474110604908 nut eval loss 0.1771802740367299\n",
      "eps training loss 0.09913134414896767 eps eval loss 0.29209543379196184\n",
      "k training loss 0.10040939990876384 k eval loss 0.14648976063963917\n",
      "#############\n",
      "\n"
     ]
    },
    {
     "name": "stderr",
     "output_type": "stream",
     "text": [
      "\r",
      " 50%|████████████████████████████████████████▍                                       | 101/200 [32:30<33:54, 20.55s/it]"
     ]
    },
    {
     "name": "stdout",
     "output_type": "stream",
     "text": [
      "#############\n",
      "epoch 100:\n",
      "total training loss 0.09356802692159434 total eval loss 0.1864505109540871\n",
      "nut training loss 0.10932612894741643 nut eval loss 0.16190140674577919\n",
      "eps training loss 0.0900993500225218 eps eval loss 0.2553755791925579\n",
      "k training loss 0.0812786023743236 k eval loss 0.1420745468135344\n",
      "#############\n",
      "\n"
     ]
    },
    {
     "name": "stderr",
     "output_type": "stream",
     "text": [
      "\r",
      " 51%|████████████████████████████████████████▊                                       | 102/200 [32:52<33:51, 20.73s/it]"
     ]
    },
    {
     "name": "stdout",
     "output_type": "stream",
     "text": [
      "#############\n",
      "epoch 101:\n",
      "total training loss 0.14109217380594694 total eval loss 0.2201220949982557\n",
      "nut training loss 0.18418694655809434 nut eval loss 0.24704208214619935\n",
      "eps training loss 0.10668424787536196 eps eval loss 0.22299442345011908\n",
      "k training loss 0.1324053266170599 k eval loss 0.19032978359390743\n",
      "#############\n",
      "\n"
     ]
    },
    {
     "name": "stderr",
     "output_type": "stream",
     "text": [
      "\r",
      " 52%|█████████████████████████████████████████▏                                      | 103/200 [33:11<32:50, 20.31s/it]"
     ]
    },
    {
     "name": "stdout",
     "output_type": "stream",
     "text": [
      "#############\n",
      "epoch 102:\n",
      "total training loss 0.1327247835699592 total eval loss 0.1814062250107074\n",
      "nut training loss 0.1770125924462888 nut eval loss 0.21688342459415388\n",
      "eps training loss 0.0996170076800335 eps eval loss 0.1524925035131488\n",
      "k training loss 0.12154475030474772 k eval loss 0.17484274408329084\n",
      "#############\n",
      "\n"
     ]
    },
    {
     "name": "stderr",
     "output_type": "stream",
     "text": [
      "\r",
      " 52%|█████████████████████████████████████████▌                                      | 104/200 [33:29<31:38, 19.77s/it]"
     ]
    },
    {
     "name": "stdout",
     "output_type": "stream",
     "text": [
      "#############\n",
      "epoch 103:\n",
      "total training loss 0.09092320337351006 total eval loss 0.15910276473897694\n",
      "nut training loss 0.10189071374550705 nut eval loss 0.15117993415315897\n",
      "eps training loss 0.09124562886448549 eps eval loss 0.18411348844967196\n",
      "k training loss 0.07963326661298165 k eval loss 0.14201487337935947\n",
      "#############\n",
      "\n"
     ]
    },
    {
     "name": "stderr",
     "output_type": "stream",
     "text": [
      "\r",
      " 52%|██████████████████████████████████████████                                      | 105/200 [33:50<31:53, 20.14s/it]"
     ]
    },
    {
     "name": "stdout",
     "output_type": "stream",
     "text": [
      "#############\n",
      "epoch 104:\n",
      "total training loss 0.09943788994402031 total eval loss 0.17432455713466224\n",
      "nut training loss 0.11528174517799242 nut eval loss 0.17669599044483597\n",
      "eps training loss 0.09473731001711423 eps eval loss 0.18831478518144468\n",
      "k training loss 0.088294614306948 k eval loss 0.15796290280752434\n",
      "#############\n",
      "\n"
     ]
    },
    {
     "name": "stderr",
     "output_type": "stream",
     "text": [
      "\r",
      " 53%|██████████████████████████████████████████▍                                     | 106/200 [34:09<31:01, 19.81s/it]"
     ]
    },
    {
     "name": "stdout",
     "output_type": "stream",
     "text": [
      "#############\n",
      "epoch 105:\n",
      "total training loss 0.09310488267283498 total eval loss 0.18045216740716333\n",
      "nut training loss 0.11527763566848846 nut eval loss 0.1839085925976163\n",
      "eps training loss 0.08604681395832724 eps eval loss 0.20011015622682696\n",
      "k training loss 0.07799019769950277 k eval loss 0.1573377576977389\n",
      "#############\n",
      "\n"
     ]
    },
    {
     "name": "stderr",
     "output_type": "stream",
     "text": [
      "\r",
      " 54%|██████████████████████████████████████████▊                                     | 107/200 [34:28<30:16, 19.53s/it]"
     ]
    },
    {
     "name": "stdout",
     "output_type": "stream",
     "text": [
      "#############\n",
      "epoch 106:\n",
      "total training loss 0.09751775190276543 total eval loss 0.14903819816254202\n",
      "nut training loss 0.10536049945925721 nut eval loss 0.17040839041109626\n",
      "eps training loss 0.10459495682238981 eps eval loss 0.11879464255527383\n",
      "k training loss 0.08259780247203974 k eval loss 0.1579115620474275\n",
      "#############\n",
      "\n"
     ]
    },
    {
     "name": "stderr",
     "output_type": "stream",
     "text": [
      "\r",
      " 54%|███████████████████████████████████████████▏                                    | 108/200 [34:49<30:39, 20.00s/it]"
     ]
    },
    {
     "name": "stdout",
     "output_type": "stream",
     "text": [
      "#############\n",
      "epoch 107:\n",
      "total training loss 0.09897289673058404 total eval loss 0.17842765741320543\n",
      "nut training loss 0.1159237584331681 nut eval loss 0.1729390157256961\n",
      "eps training loss 0.09267952661398388 eps eval loss 0.2053361067587923\n",
      "k training loss 0.08831540345069903 k eval loss 0.1570078504306479\n",
      "#############\n",
      "\n"
     ]
    },
    {
     "name": "stderr",
     "output_type": "stream",
     "text": [
      "\r",
      " 55%|███████████████████████████████████████████▌                                    | 109/200 [35:09<30:02, 19.81s/it]"
     ]
    },
    {
     "name": "stdout",
     "output_type": "stream",
     "text": [
      "#############\n",
      "epoch 108:\n",
      "total training loss 0.09561254926109931 total eval loss 0.1864205418108182\n",
      "nut training loss 0.11337660399025387 nut eval loss 0.1808937619912784\n",
      "eps training loss 0.08587184625233811 eps eval loss 0.2184842800750535\n",
      "k training loss 0.08758919763591207 k eval loss 0.15988358404229358\n",
      "#############\n",
      "\n"
     ]
    },
    {
     "name": "stderr",
     "output_type": "stream",
     "text": [
      "\r",
      " 55%|████████████████████████████████████████████                                    | 110/200 [35:29<30:07, 20.08s/it]"
     ]
    },
    {
     "name": "stdout",
     "output_type": "stream",
     "text": [
      "#############\n",
      "epoch 109:\n",
      "total training loss 0.10750912969746661 total eval loss 0.19480046054290262\n",
      "nut training loss 0.13403016253508424 nut eval loss 0.19506628604913248\n",
      "eps training loss 0.0880404955450659 eps eval loss 0.20854775463437303\n",
      "k training loss 0.10045673244346215 k eval loss 0.1807873438971606\n",
      "#############\n",
      "\n"
     ]
    },
    {
     "name": "stderr",
     "output_type": "stream",
     "text": [
      "\r",
      " 56%|████████████████████████████████████████████▍                                   | 111/200 [35:52<30:55, 20.84s/it]"
     ]
    },
    {
     "name": "stdout",
     "output_type": "stream",
     "text": [
      "#############\n",
      "epoch 110:\n",
      "total training loss 0.09989364585984584 total eval loss 0.1763312757378545\n",
      "nut training loss 0.11421878682486768 nut eval loss 0.18467813402304067\n",
      "eps training loss 0.0877219351782078 eps eval loss 0.18739726344772784\n",
      "k training loss 0.09774021648896895 k eval loss 0.1569184260651642\n",
      "#############\n",
      "\n"
     ]
    },
    {
     "name": "stderr",
     "output_type": "stream",
     "text": [
      "\r",
      " 56%|████████████████████████████████████████████▊                                   | 112/200 [36:16<31:56, 21.77s/it]"
     ]
    },
    {
     "name": "stdout",
     "output_type": "stream",
     "text": [
      "#############\n",
      "epoch 111:\n",
      "total training loss 0.11763068616270071 total eval loss 0.18085655402327072\n",
      "nut training loss 0.15003120050073046 nut eval loss 0.20231877783339602\n",
      "eps training loss 0.08964545636078958 eps eval loss 0.1573717446375675\n",
      "k training loss 0.113215402904457 k eval loss 0.18287913929341568\n",
      "#############\n",
      "\n"
     ]
    },
    {
     "name": "stderr",
     "output_type": "stream",
     "text": [
      "\r",
      " 56%|█████████████████████████████████████████████▏                                  | 113/200 [36:39<31:56, 22.03s/it]"
     ]
    },
    {
     "name": "stdout",
     "output_type": "stream",
     "text": [
      "#############\n",
      "epoch 112:\n",
      "total training loss 0.10629303848129822 total eval loss 0.2015648074224585\n",
      "nut training loss 0.1224782941545114 nut eval loss 0.17704484674401025\n",
      "eps training loss 0.10020110009189595 eps eval loss 0.2655447103778602\n",
      "k training loss 0.09619972087080793 k eval loss 0.16210486319860917\n",
      "#############\n",
      "\n"
     ]
    },
    {
     "name": "stderr",
     "output_type": "stream",
     "text": [
      "\r",
      " 57%|█████████████████████████████████████████████▌                                  | 114/200 [37:06<33:46, 23.56s/it]"
     ]
    },
    {
     "name": "stdout",
     "output_type": "stream",
     "text": [
      "#############\n",
      "epoch 113:\n",
      "total training loss 0.10155335138719591 total eval loss 0.19483907034530606\n",
      "nut training loss 0.11400324101001387 nut eval loss 0.17868144664160043\n",
      "eps training loss 0.09194582131603539 eps eval loss 0.2579489388084883\n",
      "k training loss 0.0987109909230868 k eval loss 0.14788682943051243\n",
      "#############\n",
      "\n"
     ]
    },
    {
     "name": "stderr",
     "output_type": "stream",
     "text": [
      "\r",
      " 57%|██████████████████████████████████████████████                                  | 115/200 [37:29<33:05, 23.36s/it]"
     ]
    },
    {
     "name": "stdout",
     "output_type": "stream",
     "text": [
      "#############\n",
      "epoch 114:\n",
      "total training loss 0.10471636277845936 total eval loss 0.217122931497206\n",
      "nut training loss 0.12986061954042727 nut eval loss 0.1903340509585748\n",
      "eps training loss 0.09256020377448407 eps eval loss 0.3012108770043462\n",
      "k training loss 0.09172826462064723 k eval loss 0.15982386337514864\n",
      "#############\n",
      "\n"
     ]
    },
    {
     "name": "stderr",
     "output_type": "stream",
     "text": [
      "\r",
      " 58%|██████████████████████████████████████████████▍                                 | 116/200 [37:58<35:22, 25.26s/it]"
     ]
    },
    {
     "name": "stdout",
     "output_type": "stream",
     "text": [
      "#############\n",
      "epoch 115:\n",
      "total training loss 0.11627741834168862 total eval loss 0.16662407251358413\n",
      "nut training loss 0.15228857506728422 nut eval loss 0.18544743402889358\n",
      "eps training loss 0.09303362832037433 eps eval loss 0.15205097047682867\n",
      "k training loss 0.10351005221853456 k eval loss 0.16237380680260047\n",
      "#############\n",
      "\n"
     ]
    },
    {
     "name": "stderr",
     "output_type": "stream",
     "text": [
      "\r",
      " 58%|██████████████████████████████████████████████▊                                 | 117/200 [38:21<33:46, 24.42s/it]"
     ]
    },
    {
     "name": "stdout",
     "output_type": "stream",
     "text": [
      "#############\n",
      "epoch 116:\n",
      "total training loss 0.08821701693976872 total eval loss 0.20804696688362778\n",
      "nut training loss 0.10407393073650872 nut eval loss 0.15749840298850604\n",
      "eps training loss 0.08121716287304837 eps eval loss 0.32662811171230705\n",
      "k training loss 0.07935995674671632 k eval loss 0.14001438457934026\n",
      "#############\n",
      "\n"
     ]
    },
    {
     "name": "stderr",
     "output_type": "stream",
     "text": [
      "\r",
      " 59%|███████████████████████████████████████████████▏                                | 118/200 [38:46<33:46, 24.72s/it]"
     ]
    },
    {
     "name": "stdout",
     "output_type": "stream",
     "text": [
      "#############\n",
      "epoch 117:\n",
      "total training loss 0.12866045083027003 total eval loss 0.22440118180311336\n",
      "nut training loss 0.1666867387675207 nut eval loss 0.20500201810114793\n",
      "eps training loss 0.08260464431000127 eps eval loss 0.2848123385722796\n",
      "k training loss 0.13668997030313607 k eval loss 0.18338918377018948\n",
      "#############\n",
      "\n"
     ]
    },
    {
     "name": "stderr",
     "output_type": "stream",
     "text": [
      "\r",
      " 60%|███████████████████████████████████████████████▌                                | 119/200 [39:10<32:49, 24.31s/it]"
     ]
    },
    {
     "name": "stdout",
     "output_type": "stream",
     "text": [
      "#############\n",
      "epoch 118:\n",
      "total training loss 0.11535188984016354 total eval loss 0.1912396900505798\n",
      "nut training loss 0.12920322320014827 nut eval loss 0.18008321379817074\n",
      "eps training loss 0.09969447348120702 eps eval loss 0.22689010341202756\n",
      "k training loss 0.11715797403529637 k eval loss 0.16674575831134944\n",
      "#############\n",
      "\n"
     ]
    },
    {
     "name": "stderr",
     "output_type": "stream",
     "text": [
      "\r",
      " 60%|████████████████████████████████████████████████                                | 120/200 [39:29<30:27, 22.84s/it]"
     ]
    },
    {
     "name": "stdout",
     "output_type": "stream",
     "text": [
      "#############\n",
      "epoch 119:\n",
      "total training loss 0.10025409073519438 total eval loss 0.19155256858388195\n",
      "nut training loss 0.11254973849109323 nut eval loss 0.17790549457609003\n",
      "eps training loss 0.0898519758845827 eps eval loss 0.24490508791789317\n",
      "k training loss 0.09836055663672506 k eval loss 0.1518471244815871\n",
      "#############\n",
      "\n"
     ]
    },
    {
     "name": "stderr",
     "output_type": "stream",
     "text": [
      "\r",
      " 60%|████████████████████████████████████████████████▍                               | 121/200 [39:51<29:49, 22.65s/it]"
     ]
    },
    {
     "name": "stdout",
     "output_type": "stream",
     "text": [
      "#############\n",
      "epoch 120:\n",
      "total training loss 0.1168447596882045 total eval loss 0.1573141354759376\n",
      "nut training loss 0.1463518797444894 nut eval loss 0.1821073857266702\n",
      "eps training loss 0.0992324059630864 eps eval loss 0.12572355346961003\n",
      "k training loss 0.10494999424195083 k eval loss 0.1641114658895296\n",
      "#############\n",
      "\n"
     ]
    },
    {
     "name": "stderr",
     "output_type": "stream",
     "text": [
      "\r",
      " 61%|████████████████████████████████████████████████▊                               | 122/200 [40:14<29:29, 22.69s/it]"
     ]
    },
    {
     "name": "stdout",
     "output_type": "stream",
     "text": [
      "#############\n",
      "epoch 121:\n",
      "total training loss 0.10226616169223061 total eval loss 0.1718658765044497\n",
      "nut training loss 0.11924299368493119 nut eval loss 0.1680270071513355\n",
      "eps training loss 0.09695349536680453 eps eval loss 0.19942082569246544\n",
      "k training loss 0.09060199642433162 k eval loss 0.14814979655007\n",
      "#############\n",
      "\n"
     ]
    },
    {
     "name": "stderr",
     "output_type": "stream",
     "text": [
      "\r",
      " 62%|█████████████████████████████████████████████████▏                              | 123/200 [40:42<30:58, 24.14s/it]"
     ]
    },
    {
     "name": "stdout",
     "output_type": "stream",
     "text": [
      "#############\n",
      "epoch 122:\n",
      "total training loss 0.0938911663725501 total eval loss 0.20597994844601172\n",
      "nut training loss 0.10397172269203293 nut eval loss 0.18095116436086567\n",
      "eps training loss 0.09834293203976067 eps eval loss 0.27805934748681643\n",
      "k training loss 0.07935884024462043 k eval loss 0.15892932747181115\n",
      "#############\n",
      "\n"
     ]
    },
    {
     "name": "stderr",
     "output_type": "stream",
     "text": [
      "\r",
      " 62%|█████████████████████████████████████████████████▌                              | 124/200 [41:06<30:40, 24.22s/it]"
     ]
    },
    {
     "name": "stdout",
     "output_type": "stream",
     "text": [
      "#############\n",
      "epoch 123:\n",
      "total training loss 0.09269149571755023 total eval loss 0.1784521137755587\n",
      "nut training loss 0.11438302525118983 nut eval loss 0.19198156710515404\n",
      "eps training loss 0.08079619231631079 eps eval loss 0.17259874570058195\n",
      "k training loss 0.08289526878706353 k eval loss 0.1707760284309818\n",
      "#############\n",
      "\n"
     ]
    },
    {
     "name": "stderr",
     "output_type": "stream",
     "text": [
      "\r",
      " 62%|██████████████████████████████████████████████████                              | 125/200 [41:33<31:10, 24.94s/it]"
     ]
    },
    {
     "name": "stdout",
     "output_type": "stream",
     "text": [
      "#############\n",
      "epoch 124:\n",
      "total training loss 0.11613562539704866 total eval loss 0.19914531816703931\n",
      "nut training loss 0.14612309968680265 nut eval loss 0.20014142953186853\n",
      "eps training loss 0.09682104114501257 eps eval loss 0.20274396160104585\n",
      "k training loss 0.10546273197637981 k eval loss 0.1945505651706443\n",
      "#############\n",
      "\n"
     ]
    },
    {
     "name": "stderr",
     "output_type": "stream",
     "text": [
      "\r",
      " 63%|██████████████████████████████████████████████████▍                             | 126/200 [41:53<29:00, 23.53s/it]"
     ]
    },
    {
     "name": "stdout",
     "output_type": "stream",
     "text": [
      "#############\n",
      "epoch 125:\n",
      "total training loss 0.09753822087891877 total eval loss 0.17121584984685534\n",
      "nut training loss 0.10791592043963553 nut eval loss 0.18375055357614584\n",
      "eps training loss 0.09896493933480441 eps eval loss 0.17814683899641642\n",
      "k training loss 0.08573380339661449 k eval loss 0.1517501602506598\n",
      "#############\n",
      "\n"
     ]
    },
    {
     "name": "stderr",
     "output_type": "stream",
     "text": [
      "\r",
      " 64%|██████████████████████████████████████████████████▊                             | 127/200 [42:14<27:42, 22.77s/it]"
     ]
    },
    {
     "name": "stdout",
     "output_type": "stream",
     "text": [
      "#############\n",
      "epoch 126:\n",
      "total training loss 0.10221100589553235 total eval loss 0.19879408369818355\n",
      "nut training loss 0.11793246653919381 nut eval loss 0.1946583842509115\n",
      "eps training loss 0.0972014203276581 eps eval loss 0.22633958324357872\n",
      "k training loss 0.09149913111963068 k eval loss 0.17538428206060516\n",
      "#############\n",
      "\n"
     ]
    },
    {
     "name": "stderr",
     "output_type": "stream",
     "text": [
      "\r",
      " 64%|███████████████████████████████████████████████████▏                            | 128/200 [42:32<25:47, 21.49s/it]"
     ]
    },
    {
     "name": "stdout",
     "output_type": "stream",
     "text": [
      "#############\n",
      "epoch 127:\n",
      "total training loss 0.19191116295334174 total eval loss 0.34267465209648434\n",
      "nut training loss 0.24477117079552652 nut eval loss 0.35743251005416776\n",
      "eps training loss 0.10125183345930973 eps eval loss 0.29990813549053535\n",
      "k training loss 0.22971048478772804 k eval loss 0.3706833099307796\n",
      "#############\n",
      "\n"
     ]
    },
    {
     "name": "stderr",
     "output_type": "stream",
     "text": [
      "\r",
      " 64%|███████████████████████████████████████████████████▌                            | 129/200 [42:56<26:18, 22.23s/it]"
     ]
    },
    {
     "name": "stdout",
     "output_type": "stream",
     "text": [
      "#############\n",
      "epoch 128:\n",
      "total training loss 0.11794061770673415 total eval loss 0.22689526916499334\n",
      "nut training loss 0.1619654438770414 nut eval loss 0.2376063325383663\n",
      "eps training loss 0.08151751498777014 eps eval loss 0.238227529325414\n",
      "k training loss 0.11033889574741901 k eval loss 0.20485194888111988\n",
      "#############\n",
      "\n"
     ]
    },
    {
     "name": "stderr",
     "output_type": "stream",
     "text": [
      "\r",
      " 65%|████████████████████████████████████████████████████                            | 130/200 [43:16<24:57, 21.40s/it]"
     ]
    },
    {
     "name": "stdout",
     "output_type": "stream",
     "text": [
      "#############\n",
      "epoch 129:\n",
      "total training loss 0.11161552556412302 total eval loss 0.17790515144500232\n",
      "nut training loss 0.12841657848544902 nut eval loss 0.1792528215223209\n",
      "eps training loss 0.11149913484870148 eps eval loss 0.19489570011833188\n",
      "k training loss 0.09493086423110839 k eval loss 0.15956693104726546\n",
      "#############\n",
      "\n"
     ]
    },
    {
     "name": "stderr",
     "output_type": "stream",
     "text": [
      "\r",
      " 66%|████████████████████████████████████████████████████▍                           | 131/200 [43:37<24:26, 21.25s/it]"
     ]
    },
    {
     "name": "stdout",
     "output_type": "stream",
     "text": [
      "#############\n",
      "epoch 130:\n",
      "total training loss 0.10984227324439179 total eval loss 0.16916882452141882\n",
      "nut training loss 0.1393925773609442 nut eval loss 0.18520120802950335\n",
      "eps training loss 0.09958622546955871 eps eval loss 0.1568294538013462\n",
      "k training loss 0.09054801642124277 k eval loss 0.16547581351518045\n",
      "#############\n",
      "\n"
     ]
    },
    {
     "name": "stderr",
     "output_type": "stream",
     "text": [
      "\r",
      " 66%|████████████████████████████████████████████████████▊                           | 132/200 [43:57<23:53, 21.08s/it]"
     ]
    },
    {
     "name": "stdout",
     "output_type": "stream",
     "text": [
      "#############\n",
      "epoch 131:\n",
      "total training loss 0.13642525718748458 total eval loss 0.22274085485315057\n",
      "nut training loss 0.17337013889504438 nut eval loss 0.2366842706852944\n",
      "eps training loss 0.09148374963197702 eps eval loss 0.22616319531692078\n",
      "k training loss 0.14442188219443536 k eval loss 0.20537510342848353\n",
      "#############\n",
      "\n"
     ]
    },
    {
     "name": "stderr",
     "output_type": "stream",
     "text": [
      "\r",
      " 66%|█████████████████████████████████████████████████████▏                          | 133/200 [44:14<22:07, 19.82s/it]"
     ]
    },
    {
     "name": "stdout",
     "output_type": "stream",
     "text": [
      "#############\n",
      "epoch 132:\n",
      "total training loss 0.1127542347280285 total eval loss 0.1918294976841402\n",
      "nut training loss 0.12734855564355588 nut eval loss 0.18523761560968557\n",
      "eps training loss 0.10726490214425856 eps eval loss 0.22951390575274896\n",
      "k training loss 0.1036492462261278 k eval loss 0.16073696941288274\n",
      "#############\n",
      "\n"
     ]
    },
    {
     "name": "stderr",
     "output_type": "stream",
     "text": [
      "\r",
      " 67%|█████████████████████████████████████████████████████▌                          | 134/200 [44:33<21:20, 19.39s/it]"
     ]
    },
    {
     "name": "stdout",
     "output_type": "stream",
     "text": [
      "#############\n",
      "epoch 133:\n",
      "total training loss 0.08668779851985471 total eval loss 0.16066834883522702\n",
      "nut training loss 0.09713023755646416 nut eval loss 0.17165105778951026\n",
      "eps training loss 0.08672824952149623 eps eval loss 0.16884497302440774\n",
      "k training loss 0.07620490579258944 k eval loss 0.1415090114004911\n",
      "#############\n",
      "\n"
     ]
    },
    {
     "name": "stderr",
     "output_type": "stream",
     "text": [
      "\r",
      " 68%|██████████████████████████████████████████████████████                          | 135/200 [44:55<21:53, 20.20s/it]"
     ]
    },
    {
     "name": "stdout",
     "output_type": "stream",
     "text": [
      "#############\n",
      "epoch 134:\n",
      "total training loss 0.08897390463312421 total eval loss 0.17872787302330068\n",
      "nut training loss 0.10700055898713928 nut eval loss 0.16919079196210532\n",
      "eps training loss 0.08691153725713414 eps eval loss 0.22328368335084883\n",
      "k training loss 0.07300961727655036 k eval loss 0.14370915312255206\n",
      "#############\n",
      "\n"
     ]
    },
    {
     "name": "stderr",
     "output_type": "stream",
     "text": [
      "\r",
      " 68%|██████████████████████████████████████████████████████▍                         | 136/200 [45:14<21:11, 19.87s/it]"
     ]
    },
    {
     "name": "stdout",
     "output_type": "stream",
     "text": [
      "#############\n",
      "epoch 135:\n",
      "total training loss 0.10736282255233542 total eval loss 0.17472451966289992\n",
      "nut training loss 0.13150107524130125 nut eval loss 0.19295213651155738\n",
      "eps training loss 0.08095959344048581 eps eval loss 0.160769757418123\n",
      "k training loss 0.1096278020002539 k eval loss 0.17045166812295387\n",
      "#############\n",
      "\n"
     ]
    },
    {
     "name": "stderr",
     "output_type": "stream",
     "text": [
      "\r",
      " 68%|██████████████████████████████████████████████████████▊                         | 137/200 [45:33<20:43, 19.74s/it]"
     ]
    },
    {
     "name": "stdout",
     "output_type": "stream",
     "text": [
      "#############\n",
      "epoch 136:\n",
      "total training loss 0.10686391868202133 total eval loss 0.1776750744334884\n",
      "nut training loss 0.12610224655331295 nut eval loss 0.17861028645191063\n",
      "eps training loss 0.09384763459098652 eps eval loss 0.19067865084426858\n",
      "k training loss 0.10064187504623037 k eval loss 0.16373628788441566\n",
      "#############\n",
      "\n"
     ]
    },
    {
     "name": "stderr",
     "output_type": "stream",
     "text": [
      "\r",
      " 69%|███████████████████████████████████████████████████████▏                        | 138/200 [45:59<22:23, 21.67s/it]"
     ]
    },
    {
     "name": "stdout",
     "output_type": "stream",
     "text": [
      "#############\n",
      "epoch 137:\n",
      "total training loss 0.10097338622470135 total eval loss 0.16238665292973695\n",
      "nut training loss 0.11620628389130917 nut eval loss 0.17636377582655488\n",
      "eps training loss 0.10093425586499181 eps eval loss 0.15783034913625882\n",
      "k training loss 0.08577961411231508 k eval loss 0.15296583463472901\n",
      "#############\n",
      "\n"
     ]
    },
    {
     "name": "stderr",
     "output_type": "stream",
     "text": [
      "\r",
      " 70%|███████████████████████████████████████████████████████▌                        | 139/200 [46:22<22:24, 22.04s/it]"
     ]
    },
    {
     "name": "stdout",
     "output_type": "stream",
     "text": [
      "#############\n",
      "epoch 138:\n",
      "total training loss 0.09725666944601076 total eval loss 0.1870462371894352\n",
      "nut training loss 0.11571401869189758 nut eval loss 0.178087075097771\n",
      "eps training loss 0.0826765216521257 eps eval loss 0.23291909679893216\n",
      "k training loss 0.09337946785038372 k eval loss 0.15013253639269072\n",
      "#############\n",
      "\n"
     ]
    },
    {
     "name": "stderr",
     "output_type": "stream",
     "text": [
      "\r",
      " 70%|████████████████████████████████████████████████████████                        | 140/200 [46:46<22:40, 22.67s/it]"
     ]
    },
    {
     "name": "stdout",
     "output_type": "stream",
     "text": [
      "#############\n",
      "epoch 139:\n",
      "total training loss 0.10254440701329476 total eval loss 0.19674231032935247\n",
      "nut training loss 0.1263544971985346 nut eval loss 0.22123291265934147\n",
      "eps training loss 0.0758776723330561 eps eval loss 0.183185406100657\n",
      "k training loss 0.1054010506000961 k eval loss 0.18580861249741196\n",
      "#############\n",
      "\n"
     ]
    },
    {
     "name": "stderr",
     "output_type": "stream",
     "text": [
      "\r",
      " 70%|████████████████████████████████████████████████████████▍                       | 141/200 [47:04<20:52, 21.22s/it]"
     ]
    },
    {
     "name": "stdout",
     "output_type": "stream",
     "text": [
      "#############\n",
      "epoch 140:\n",
      "total training loss 0.1139708272735012 total eval loss 0.19996353449317356\n",
      "nut training loss 0.14029167018054428 nut eval loss 0.1760801508818098\n",
      "eps training loss 0.09414664921729042 eps eval loss 0.2474596393781943\n",
      "k training loss 0.1074741639625064 k eval loss 0.1763508135033749\n",
      "#############\n",
      "\n"
     ]
    },
    {
     "name": "stderr",
     "output_type": "stream",
     "text": [
      "\r",
      " 71%|████████████████████████████████████████████████████████▊                       | 142/200 [47:23<19:52, 20.56s/it]"
     ]
    },
    {
     "name": "stdout",
     "output_type": "stream",
     "text": [
      "#############\n",
      "epoch 141:\n",
      "total training loss 0.10158691582274189 total eval loss 0.19593365300796636\n",
      "nut training loss 0.12364284863840341 nut eval loss 0.19232061294114108\n",
      "eps training loss 0.0891661680075891 eps eval loss 0.23245938683722178\n",
      "k training loss 0.09195172931144206 k eval loss 0.16302096263407462\n",
      "#############\n",
      "\n"
     ]
    },
    {
     "name": "stderr",
     "output_type": "stream",
     "text": [
      "\r",
      " 72%|█████████████████████████████████████████████████████████▏                      | 143/200 [47:43<19:09, 20.18s/it]"
     ]
    },
    {
     "name": "stdout",
     "output_type": "stream",
     "text": [
      "#############\n",
      "epoch 142:\n",
      "total training loss 0.09095950109459852 total eval loss 0.19045192027896177\n",
      "nut training loss 0.10290550963432857 nut eval loss 0.1721104323409876\n",
      "eps training loss 0.08947928263755246 eps eval loss 0.2381404339280261\n",
      "k training loss 0.0804937136275965 k eval loss 0.16110489312876278\n",
      "#############\n",
      "\n"
     ]
    },
    {
     "name": "stderr",
     "output_type": "stream",
     "text": [
      "\r",
      " 72%|█████████████████████████████████████████████████████████▌                      | 144/200 [48:00<18:02, 19.33s/it]"
     ]
    },
    {
     "name": "stdout",
     "output_type": "stream",
     "text": [
      "#############\n",
      "epoch 143:\n",
      "total training loss 0.08837974271817015 total eval loss 0.1756853184932177\n",
      "nut training loss 0.10073224322878009 nut eval loss 0.17151687362991444\n",
      "eps training loss 0.09078979388906563 eps eval loss 0.2078742098383961\n",
      "k training loss 0.07361719140545349 k eval loss 0.14766487451749896\n",
      "#############\n",
      "\n"
     ]
    },
    {
     "name": "stderr",
     "output_type": "stream",
     "text": [
      "\r",
      " 72%|██████████████████████████████████████████████████████████                      | 145/200 [48:17<17:05, 18.64s/it]"
     ]
    },
    {
     "name": "stdout",
     "output_type": "stream",
     "text": [
      "#############\n",
      "epoch 144:\n",
      "total training loss 0.1414205178445111 total eval loss 0.2511092332623031\n",
      "nut training loss 0.19427356317323324 nut eval loss 0.24243591667909486\n",
      "eps training loss 0.092718929333214 eps eval loss 0.2600469358573611\n",
      "k training loss 0.1372690606022106 k eval loss 0.2508448430349246\n",
      "#############\n",
      "\n"
     ]
    }
   ],
   "source": [
    "for i in tqdm(range(200)):\n",
    "    loss,loss_k, loss_eps, loss_nut,loss_eval,loss_eps_eval,loss_k_eval,loss_nut_eval, info = train_one_epoch()\n",
    "    \n",
    "    train_losses.extend(loss)\n",
    "    train_losses_nut.extend(loss_nut)\n",
    "    train_losses_eps.extend(loss_eps)\n",
    "    train_losses_k.extend(loss_k)\n",
    "    \n",
    "    test_losses.extend(loss_eval)\n",
    "    test_losses_nut.extend(loss_nut_eval)\n",
    "    test_losses_eps.extend(loss_eps_eval)\n",
    "    test_losses_k.extend(loss_k_eval)\n",
    "    \n",
    "    infos_train.extend(info)\n",
    "    \n",
    "    print('#############')\n",
    "    print(f'epoch {i}:')\n",
    "    print(f'total training loss {sum(loss) / len(loss)} total eval loss {sum(loss_eval) / len(loss_eval)}')\n",
    "    print(f'nut training loss {sum(loss_nut) / len(loss_nut)} nut eval loss {sum(loss_nut_eval) / len(loss_nut_eval)}')\n",
    "    print(f'eps training loss {sum(loss_eps) / len(loss_eps)} eps eval loss {sum(loss_eps_eval) / len(loss_eps_eval)}')\n",
    "    print(f'k training loss {sum(loss_k) / len(loss_k)} k eval loss {sum(loss_k_eval) / len(loss_k_eval)}')\n",
    "    print('#############')\n",
    "    print()\n",
    "\n",
    "    "
   ]
  },
  {
   "cell_type": "code",
   "execution_count": null,
   "id": "2fb64eac",
   "metadata": {},
   "outputs": [],
   "source": [
    "def averageOut(list_nums, n):\n",
    "    new_list = []\n",
    "    temp_sum = 0\n",
    "    temp_length = 0\n",
    "    counter = 0\n",
    "    average = 0\n",
    "    temp_list = []\n",
    "    final_list = []\n",
    "    for i, num in enumerate(list_nums):\n",
    "        counter+=1\n",
    "        temp_list.append(num)\n",
    "        if counter == n:\n",
    "            avg = sum(temp_list) / len(temp_list)\n",
    "            final_list.append(avg)\n",
    "            temp_list = []\n",
    "            counter = 0\n",
    "    if len(temp_list) != 0:\n",
    "        avg = sum(temp_list) / len(temp_list)\n",
    "        final_list.append(avg)\n",
    "    return final_list"
   ]
  },
  {
   "cell_type": "code",
   "execution_count": null,
   "id": "d0bfe54b",
   "metadata": {},
   "outputs": [],
   "source": [
    "plt.yscale(\"log\")\n",
    "smoothing_factor = 1089\n",
    "\n",
    "plt.plot(averageOut(train_losses, smoothing_factor), color=\"red\", label=\"training loss\")\n",
    "plt.plot(averageOut(test_losses, smoothing_factor), color=\"blue\", label=\"validation loss\")\n",
    "\n",
    "#ax2.plot(averageOut(train_losses_k, smoothing_factor), color=\"red\", label=\"training loss\")\n",
    "#ax2.plot(averageOut(test_losses_k, smoothing_factor), color=\"blue\", label=\"validation loss\")\n",
    "#ax3.plot(averageOut(train_losses_nut, smoothing_factor), color=\"red\", label=\"training loss\")\n",
    "#ax3.plot(averageOut(test_losses_nut, smoothing_factor), color=\"blue\", label=\"validation loss\")\n",
    "plt.title(\"validation & training loss (log scale)\")\n",
    "plt.xlabel(\"iteration\")\n",
    "plt.ylabel(\"loss\")\n",
    "plt.legend()\n",
    "plt.savefig(\"./images/loss_net_C_4.0=500_S=100_E=300.png\", dpi=1500)"
   ]
  },
  {
   "cell_type": "code",
   "execution_count": null,
   "id": "2f0a8262",
   "metadata": {},
   "outputs": [],
   "source": [
    "len(train_losses)/1089.0"
   ]
  },
  {
   "cell_type": "code",
   "execution_count": null,
   "id": "0495bf6d",
   "metadata": {},
   "outputs": [],
   "source": [
    "torch.save(net.state_dict(), \"./models/net_C_4.0=500_S=100_E=300.pth\")\n"
   ]
  },
  {
   "cell_type": "code",
   "execution_count": null,
   "id": "c1adba0c",
   "metadata": {},
   "outputs": [],
   "source": [
    "net.load_state_dict(torch.load(\"./models/net.pth\"))"
   ]
  }
 ],
 "metadata": {
  "kernelspec": {
   "display_name": "Python 3 (ipykernel)",
   "language": "python",
   "name": "python3"
  },
  "language_info": {
   "codemirror_mode": {
    "name": "ipython",
    "version": 3
   },
   "file_extension": ".py",
   "mimetype": "text/x-python",
   "name": "python",
   "nbconvert_exporter": "python",
   "pygments_lexer": "ipython3",
   "version": "3.10.4"
  },
  "vscode": {
   "interpreter": {
    "hash": "287199f5fcea6f9a85665f99d67797111be3aee227282d66a776eae29d9b3874"
   }
  }
 },
 "nbformat": 4,
 "nbformat_minor": 5
}
