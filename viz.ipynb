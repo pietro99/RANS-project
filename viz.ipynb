{
 "cells": [
  {
   "cell_type": "code",
   "execution_count": 5,
   "id": "d46b7dfd",
   "metadata": {},
   "outputs": [
    {
     "name": "stderr",
     "output_type": "stream",
     "text": [
      "C:\\Users\\Pietro\\anaconda3\\envs\\rans\\lib\\site-packages\\tqdm\\auto.py:22: TqdmWarning: IProgress not found. Please update jupyter and ipywidgets. See https://ipywidgets.readthedocs.io/en/stable/user_install.html\n",
      "  from .autonotebook import tqdm as notebook_tqdm\n"
     ]
    }
   ],
   "source": [
    "import torch\n",
    "import torch.nn as nn\n",
    "import hiddenlayer as hl\n",
    "from dataset import SimulationData\n",
    "import numpy as np\n",
    "import matplotlib.pyplot as plt\n",
    "import scipy.interpolate\n",
    "import tqdm\n",
    "from model import MainNet\n",
    "import matplotlib as mpl\n"
   ]
  },
  {
   "cell_type": "code",
   "execution_count": 6,
   "id": "e9d974d2",
   "metadata": {},
   "outputs": [],
   "source": [
    "dataset = SimulationData(stencilNum=500,samplePerStencil=50, fileNames=[\"aw=1.1_internal.csv\",\"aw=1.2_internal.csv\",\"aw=1.3_internal.csv\", \"aw=1.4_internal.csv\",\"aw=1.5_internal.csv\",\"aw=1.6_internal.csv\",\"aw=1.7_internal.csv\",\"aw=1.8_internal.csv\",\"aw=1.9_internal.csv\",\"aw=2.0_internal.csv\"], override=False)\n"
   ]
  },
  {
   "cell_type": "code",
   "execution_count": 7,
   "id": "82b6a451",
   "metadata": {},
   "outputs": [],
   "source": [
    "input_size1 = 4\n",
    "hidden_size1_1 = 32\n",
    "hidden_size1_2 = 64\n",
    "output_size1 = 256\n",
    "\n",
    "input_size2 = 256*5\n",
    "hidden_size2_1 = 64\n",
    "hidden_size2_2 = 32\n",
    "output_size2 = 3\n",
    "\n",
    "model_20 = MainNet(input_size1, hidden_size1_1, hidden_size1_2, output_size1, input_size2,hidden_size2_1, hidden_size2_2, output_size2)\n"
   ]
  },
  {
   "cell_type": "code",
   "execution_count": 8,
   "id": "f5c39a26",
   "metadata": {},
   "outputs": [
    {
     "data": {
      "text/plain": [
       "<All keys matched successfully>"
      ]
     },
     "execution_count": 8,
     "metadata": {},
     "output_type": "execute_result"
    }
   ],
   "source": [
    "model_20.load_state_dict(torch.load(\"./models/net_C_4.0=500_S=50_E=300.pth\"))"
   ]
  },
  {
   "cell_type": "code",
   "execution_count": 85,
   "id": "33d2171a",
   "metadata": {},
   "outputs": [
    {
     "data": {
      "text/plain": [
       "<matplotlib.collections.PathCollection at 0x1e683922680>"
      ]
     },
     "execution_count": 85,
     "metadata": {},
     "output_type": "execute_result"
    },
    {
     "data": {
      "image/png": "[encoded data removed]",
      "text/plain": [
       "<Figure size 640x480 with 1 Axes>"
      ]
     },
     "metadata": {},
     "output_type": "display_data"
    }
   ],
   "source": [
    "f, (ax1) = plt.subplots(1, 1, sharey=False)\n",
    "\n",
    "ax1.set(xlim=[-0.3, 13], ylim=[-0.3, 3.3], aspect=1)\n",
    "ax1.scatter(dataset.centers['aw=1.8_internal.csv'][:,0], dataset.centers['aw=1.8_internal.csv'][:,1])"
   ]
  },
  {
   "cell_type": "code",
   "execution_count": 11,
   "id": "1f9a92ed",
   "metadata": {},
   "outputs": [],
   "source": [
    "criterion = nn.MSELoss()\n",
    "def get_data(dataset, model, key):\n",
    "    x = []\n",
    "    y = []\n",
    "    z = []\n",
    "    true_z = []\n",
    "    losses3 = []\n",
    "    losses2 = []\n",
    "    losses1 = []\n",
    "\n",
    "    for i in range(len(dataset.file_x[key])):\n",
    "        features =  dataset.file_x[key][i]\n",
    "        labels =  dataset.file_y[key][i]\n",
    "        #print(features)\n",
    "        centerpoint = dataset.centers[key][i]\n",
    "        true_z.append(labels[2].item())\n",
    "        x.append(centerpoint[0].item())\n",
    "        y.append(centerpoint[1].item())\n",
    "        output1, output2, output3 = model(features.float())\n",
    "        z.append(output3.item())\n",
    "        labels[2].item()\n",
    "        loss3 = criterion(output3.reshape(1), labels[2])\n",
    "        loss2 = criterion(output2.reshape(1), labels[1])\n",
    "        loss1 = criterion(output1.reshape(1), labels[0])\n",
    "\n",
    "        losses3.append(loss3.item())\n",
    "        losses2.append(loss2.item())\n",
    "        losses1.append(loss1.item())\n",
    "\n",
    "    losses3 = np.array(losses3)\n",
    "    losses2 = np.array(losses2)\n",
    "    losses1 = np.array(losses1)\n",
    "\n",
    "    x = np.array(x)\n",
    "    y = np.array(y)\n",
    "    z = np.array(z)\n",
    "    true_z = np.array(true_z)\n",
    "    \n",
    "    return x, y, z, true_z, losses1, losses2, losses3\n"
   ]
  },
  {
   "cell_type": "code",
   "execution_count": 12,
   "id": "bf0e8353",
   "metadata": {},
   "outputs": [],
   "source": [
    "def contour(x, y, z, true_z, save=True, path='./images/countour.png'):\n",
    "    from sklearn.preprocessing import Normalizer\n",
    "\n",
    "    xi, yi = np.linspace(x.min(),x.max(), 3000), np.linspace(y.min(), y.max(), 3000)\n",
    "    xi, yi = np.meshgrid(xi, yi)\n",
    "    zi_predicted = scipy.interpolate.griddata((x, y), z, (xi, yi), method='linear')\n",
    "    zi_true = scipy.interpolate.griddata((x, y), true_z , (xi, yi), method='linear')\n",
    "\n",
    "    f, (ax1, ax2) = plt.subplots(1, 2, sharey=False)\n",
    "\n",
    "    ax1.set(xlim=[-0.3, 11], ylim=[-0.3, 3.3], aspect=1)\n",
    "    ax2.set(xlim=[-0.3, 11], ylim=[-0.3, 3.3], aspect=1)\n",
    "    norm = mpl.colors.Normalize(vmin=-1, vmax=1)\n",
    "    \n",
    "    ax1_plot = ax1.contourf(xi, yi, zi_true,levels=20)\n",
    "    ax2_plot = ax2.contourf(xi, yi, zi_predicted,levels=20)\n",
    "    plt.colorbar(ax1_plot,ax=[ax1, ax2], orientation='horizontal', shrink=1, location=\"top\", label=\"ν\", aspect=50)\n",
    "    #plt.colorbar(ax2_plot,ax=[ax2], orientation='horizontal', shrink=1, location=\"top\", label=\"ν\", aspect=50)\n",
    "\n",
    "    if(save):\n",
    "        plt.savefig(path, dpi=1500)\n",
    "    plt.show()"
   ]
  },
  {
   "cell_type": "code",
   "execution_count": 33,
   "id": "30b06d04",
   "metadata": {},
   "outputs": [],
   "source": [
    "def losscontour(x, y, losses, save=True, path='./images/countour.png'):\n",
    "    from sklearn.preprocessing import Normalizer\n",
    "\n",
    "    xi, yi = np.linspace(x.min(),x.max(), 3000), np.linspace(y.min(), y.max(), 3000)\n",
    "    xi, yi = np.meshgrid(xi, yi)\n",
    "    lossi = scipy.interpolate.griddata((x, y), losses, (xi, yi), method='linear')\n",
    "    f, (ax1) = plt.subplots(1, 1, sharey=False)\n",
    "    ax1.set(xlim=[-0.3, 13], ylim=[-0.3, 3.3], aspect=1)\n",
    "    \n",
    "    ax1_plot = ax1.contourf(xi, yi, lossi, levels=50)\n",
    "    plt.colorbar(ax1_plot,ax=[ax1], orientation='horizontal', shrink=1, location=\"top\", label=\"ν\", aspect=50)\n",
    "    #plt.colorbar(ax2_plot,ax=[ax2], orientation='horizontal', shrink=1, location=\"top\", label=\"ν\", aspect=50)\n",
    "    if(save):\n",
    "        plt.savefig(path, dpi=1500)\n",
    "    plt.show()"
   ]
  },
  {
   "cell_type": "code",
   "execution_count": 86,
   "id": "05fb78e3",
   "metadata": {},
   "outputs": [
    {
     "name": "stderr",
     "output_type": "stream",
     "text": [
      "C:\\Users\\Pietro\\anaconda3\\envs\\rans\\lib\\site-packages\\torch\\nn\\modules\\loss.py:530: UserWarning: Using a target size (torch.Size([])) that is different to the input size (torch.Size([1])). This will likely lead to incorrect results due to broadcasting. Please ensure they have the same size.\n",
      "  return F.mse_loss(input, target, reduction=self.reduction)\n"
     ]
    }
   ],
   "source": [
    "x, y, z, true_z, losses1, losses2, losses3 = get_data(dataset, model_20, 'aw=1.8_internal.csv')"
   ]
  },
  {
   "cell_type": "code",
   "execution_count": 87,
   "id": "f89f57cd",
   "metadata": {},
   "outputs": [
    {
     "data": {
      "image/png": "[encoded data removed]",
      "text/plain": [
       "<Figure size 640x480 with 3 Axes>"
      ]
     },
     "metadata": {},
     "output_type": "display_data"
    }
   ],
   "source": [
    "#x, y, z, true_z = get_data(dataset2, model_300)\n",
    "contour(x,y,z, true_z, path='./images/contours2.0/contour_all_1.8_300.png')"
   ]
  },
  {
   "cell_type": "code",
   "execution_count": 89,
   "id": "1c1552be",
   "metadata": {},
   "outputs": [
    {
     "data": {
      "image/png": "[encoded data removed]",
      "text/plain": [
       "<Figure size 640x480 with 2 Axes>"
      ]
     },
     "metadata": {},
     "output_type": "display_data"
    }
   ],
   "source": [
    "losscontour(x,y, losses1, path='./images/contours_LOSS/contour_all_1.8_300_loss1.png')"
   ]
  },
  {
   "cell_type": "code",
   "execution_count": 72,
   "id": "42cfe89a",
   "metadata": {},
   "outputs": [
    {
     "name": "stderr",
     "output_type": "stream",
     "text": [
      "  0%|                                                                                           | 0/10 [00:00<?, ?it/s]C:\\Users\\Pietro\\anaconda3\\envs\\rans\\lib\\site-packages\\torch\\nn\\modules\\loss.py:530: UserWarning: Using a target size (torch.Size([])) that is different to the input size (torch.Size([1])). This will likely lead to incorrect results due to broadcasting. Please ensure they have the same size.\n",
      "  return F.mse_loss(input, target, reduction=self.reduction)\n",
      "100%|██████████████████████████████████████████████████████████████████████████████████| 10/10 [00:10<00:00,  1.00s/it]\n"
     ]
    }
   ],
   "source": [
    "\n",
    "from tqdm import tqdm\n",
    "losses = {}\n",
    "for key in tqdm(dataset.file_x.keys()):\n",
    "    x, y, z, true_z, losses1, losses2, losses3 = get_data(dataset, model_20, key)\n",
    "    losses[key] = {}\n",
    "    losses[key][\"epsilon\"] = losses1.mean()\n",
    "    losses[key][\"k\"] = losses2.mean()\n",
    "    losses[key][\"v_nut\"] = losses3.mean()\n"
   ]
  },
  {
   "cell_type": "code",
   "execution_count": 115,
   "id": "cac9166c",
   "metadata": {},
   "outputs": [
    {
     "data": {
      "text/plain": [
       "1.1    0.116228\n",
       "1.2    0.160951\n",
       "1.3    0.066712\n",
       "1.4    0.148616\n",
       "1.5    0.148746\n",
       "1.6    0.102191\n",
       "1.7    0.207601\n",
       "1.8    1.393975\n",
       "1.9    0.132505\n",
       "2.0    0.426621\n",
       "Name: epsilon, dtype: float64"
      ]
     },
     "execution_count": 115,
     "metadata": {},
     "output_type": "execute_result"
    }
   ],
   "source": [
    "df[\"epsilon\"]"
   ]
  },
  {
   "cell_type": "code",
   "execution_count": 147,
   "id": "45e48b5f",
   "metadata": {
    "scrolled": true
   },
   "outputs": [
    {
     "data": {
      "image/png": "[encoded data removed]",
      "text/plain": [
       "<Figure size 640x480 with 1 Axes>"
      ]
     },
     "metadata": {},
     "output_type": "display_data"
    }
   ],
   "source": [
    "import pandas as pd\n",
    "\n",
    "df = pd.DataFrame(losses).transpose()\n",
    "fig, ax = plt.subplots()\n",
    "\n",
    "df.index = ['1.1', '1.2', '1.3','1.4', '1.5', '1.6','1.7', '1.8', '1.9','2.0']\n",
    "indeces = np.arange(10)\n",
    "width = 0.2\n",
    "\n",
    "ax.bar(indeces+0.2,df[\"epsilon\"],width, label='epsilon')\n",
    "ax.bar(indeces,df[\"k\"],width, label='k')\n",
    "ax.bar(indeces-0.2,df[\"v_nut\"], width ,label='v nut')\n",
    "plt.xticks(indeces,df.index)\n",
    "plt.xlabel(\"alpha\")\n",
    "plt.ylabel(\"prediction error\")\n",
    "plt.legend([\"epsilon\", \"k\", \"v nut\"])\n",
    "\n",
    "plt.savefig(f'./images/results/error_comparison_net_C_4.0=500_S=50_E=300.png.png', dpi=1500)\n"
   ]
  },
  {
   "cell_type": "code",
   "execution_count": 149,
   "id": "7ba3db16",
   "metadata": {},
   "outputs": [
    {
     "data": {
      "text/html": [
       "<div>\n",
       "<style scoped>\n",
       "    .dataframe tbody tr th:only-of-type {\n",
       "        vertical-align: middle;\n",
       "    }\n",
       "\n",
       "    .dataframe tbody tr th {\n",
       "        vertical-align: top;\n",
       "    }\n",
       "\n",
       "    .dataframe thead th {\n",
       "        text-align: right;\n",
       "    }\n",
       "</style>\n",
       "<table border=\"1\" class=\"dataframe\">\n",
       "  <thead>\n",
       "    <tr style=\"text-align: right;\">\n",
       "      <th></th>\n",
       "      <th>epsilon</th>\n",
       "      <th>k</th>\n",
       "      <th>v_nut</th>\n",
       "    </tr>\n",
       "  </thead>\n",
       "  <tbody>\n",
       "    <tr>\n",
       "      <th>aw=1.1_internal.csv</th>\n",
       "      <td>0.116228</td>\n",
       "      <td>0.183056</td>\n",
       "      <td>0.247120</td>\n",
       "    </tr>\n",
       "    <tr>\n",
       "      <th>aw=1.2_internal.csv</th>\n",
       "      <td>0.160951</td>\n",
       "      <td>0.108026</td>\n",
       "      <td>0.132081</td>\n",
       "    </tr>\n",
       "    <tr>\n",
       "      <th>aw=1.3_internal.csv</th>\n",
       "      <td>0.066712</td>\n",
       "      <td>0.146031</td>\n",
       "      <td>0.124095</td>\n",
       "    </tr>\n",
       "    <tr>\n",
       "      <th>aw=1.4_internal.csv</th>\n",
       "      <td>0.148616</td>\n",
       "      <td>0.110390</td>\n",
       "      <td>0.123914</td>\n",
       "    </tr>\n",
       "    <tr>\n",
       "      <th>aw=1.5_internal.csv</th>\n",
       "      <td>0.148746</td>\n",
       "      <td>0.104276</td>\n",
       "      <td>0.130596</td>\n",
       "    </tr>\n",
       "    <tr>\n",
       "      <th>aw=1.6_internal.csv</th>\n",
       "      <td>0.102191</td>\n",
       "      <td>0.120389</td>\n",
       "      <td>0.113020</td>\n",
       "    </tr>\n",
       "    <tr>\n",
       "      <th>aw=1.7_internal.csv</th>\n",
       "      <td>0.207601</td>\n",
       "      <td>0.145730</td>\n",
       "      <td>0.156507</td>\n",
       "    </tr>\n",
       "    <tr>\n",
       "      <th>aw=1.8_internal.csv</th>\n",
       "      <td>1.393975</td>\n",
       "      <td>0.152637</td>\n",
       "      <td>0.105349</td>\n",
       "    </tr>\n",
       "    <tr>\n",
       "      <th>aw=1.9_internal.csv</th>\n",
       "      <td>0.132505</td>\n",
       "      <td>0.178256</td>\n",
       "      <td>0.129817</td>\n",
       "    </tr>\n",
       "    <tr>\n",
       "      <th>aw=2.0_internal.csv</th>\n",
       "      <td>0.426621</td>\n",
       "      <td>0.171110</td>\n",
       "      <td>0.146291</td>\n",
       "    </tr>\n",
       "  </tbody>\n",
       "</table>\n",
       "</div>"
      ],
      "text/plain": [
       "                      epsilon         k     v_nut\n",
       "aw=1.1_internal.csv  0.116228  0.183056  0.247120\n",
       "aw=1.2_internal.csv  0.160951  0.108026  0.132081\n",
       "aw=1.3_internal.csv  0.066712  0.146031  0.124095\n",
       "aw=1.4_internal.csv  0.148616  0.110390  0.123914\n",
       "aw=1.5_internal.csv  0.148746  0.104276  0.130596\n",
       "aw=1.6_internal.csv  0.102191  0.120389  0.113020\n",
       "aw=1.7_internal.csv  0.207601  0.145730  0.156507\n",
       "aw=1.8_internal.csv  1.393975  0.152637  0.105349\n",
       "aw=1.9_internal.csv  0.132505  0.178256  0.129817\n",
       "aw=2.0_internal.csv  0.426621  0.171110  0.146291"
      ]
     },
     "execution_count": 149,
     "metadata": {},
     "output_type": "execute_result"
    }
   ],
   "source": [
    "pd.DataFrame(losses).transpose()\n"
   ]
  },
  {
   "cell_type": "code",
   "execution_count": 155,
   "id": "81bbaade",
   "metadata": {},
   "outputs": [
    {
     "data": {
      "text/plain": [
       "<matplotlib.legend.Legend at 0x1e68aeeb610>"
      ]
     },
     "execution_count": 155,
     "metadata": {},
     "output_type": "execute_result"
    },
    {
     "data": {
      "image/png": "[encoded data removed]",
      "text/plain": [
       "<Figure size 640x480 with 1 Axes>"
      ]
     },
     "metadata": {},
     "output_type": "display_data"
    }
   ],
   "source": [
    "df = pd.DataFrame(losses).transpose()\n",
    "fig, ax = plt.subplots()\n",
    "\n",
    "df.index = ['1.1', '1.2', '1.3','1.4', '1.5', '1.6','1.7', '1.8', '1.9','2.0']\n",
    "indeces = np.arange(10)\n",
    "width = 0.2\n",
    "\n",
    "\n",
    "ax.bar(indeces-0.2,df[\"v_nut\"], width ,label='v nut')\n",
    "plt.xticks(indeces,df.index)\n",
    "plt.xlabel(\"alpha\")\n",
    "plt.ylabel(\"prediction error\")\n",
    "plt.legend([\"v nut\"])\n",
    "plt.savefig(f'./images/results/error_comparison_net_C_4.0=500_S=50_E=300.png.png', dpi=1500)\n"
   ]
  },
  {
   "cell_type": "code",
   "execution_count": null,
   "id": "02d99bd2",
   "metadata": {},
   "outputs": [],
   "source": [
    "plt.scatter(dataset.file_x['aw=1.1_internal.csv'][:,0], dataset.file_x['aw=1.1_internal.csv'][:,1])"
   ]
  },
  {
   "cell_type": "code",
   "execution_count": null,
   "id": "e57762c0",
   "metadata": {},
   "outputs": [],
   "source": [
    "dataset.xdf_shuffled['aw=1.0_internal.csv']"
   ]
  },
  {
   "cell_type": "code",
   "execution_count": null,
   "id": "d47e707d",
   "metadata": {},
   "outputs": [],
   "source": [
    "plt.scatter(dataset.x['aw=1.1_internal.csv'][:1000], dataset.xdf_shuffled['aw=1.1_internal.csv'][:1000])"
   ]
  },
  {
   "cell_type": "code",
   "execution_count": null,
   "id": "ed5f9f72",
   "metadata": {},
   "outputs": [],
   "source": [
    "plt.scatter(dataset.xdf_shuffled['aw=1.1_internal.csv'][\"Cx\"], dataset.xdf_shuffled['aw=1.1_internal.csv'][\"Cy\"])"
   ]
  },
  {
   "cell_type": "code",
   "execution_count": null,
   "id": "ed944bf5",
   "metadata": {},
   "outputs": [],
   "source": [
    "dataset.xdf_shuffled['aw=1.0_internal.csv'][:10]"
   ]
  },
  {
   "cell_type": "code",
   "execution_count": null,
   "id": "e8ba0986",
   "metadata": {},
   "outputs": [],
   "source": []
  },
  {
   "cell_type": "code",
   "execution_count": null,
   "id": "ec06e466",
   "metadata": {},
   "outputs": [],
   "source": []
  }
 ],
 "metadata": {
  "kernelspec": {
   "display_name": "Python 3 (ipykernel)",
   "language": "python",
   "name": "python3"
  },
  "language_info": {
   "codemirror_mode": {
    "name": "ipython",
    "version": 3
   },
   "file_extension": ".py",
   "mimetype": "text/x-python",
   "name": "python",
   "nbconvert_exporter": "python",
   "pygments_lexer": "ipython3",
   "version": "3.10.4"
  }
 },
 "nbformat": 4,
 "nbformat_minor": 5
}
