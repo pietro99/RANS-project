{
 "cells": [
  {
   "cell_type": "code",
   "execution_count": 1,
   "id": "d46b7dfd",
   "metadata": {},
   "outputs": [
    {
     "name": "stderr",
     "output_type": "stream",
     "text": [
      "C:\\Users\\Pietro\\anaconda3\\envs\\rans\\lib\\site-packages\\tqdm\\auto.py:22: TqdmWarning: IProgress not found. Please update jupyter and ipywidgets. See https://ipywidgets.readthedocs.io/en/stable/user_install.html\n",
      "  from .autonotebook import tqdm as notebook_tqdm\n"
     ]
    }
   ],
   "source": [
    "import torch\n",
    "import torch.nn as nn\n",
    "import hiddenlayer as hl\n",
    "from dataset import SimulationData\n",
    "import numpy as np\n",
    "import matplotlib.pyplot as plt\n",
    "import scipy.interpolate\n",
    "import tqdm\n",
    "from model import MainNet"
   ]
  },
  {
   "cell_type": "code",
   "execution_count": 2,
   "id": "e9d974d2",
   "metadata": {},
   "outputs": [],
   "source": [
    "dataset0 = SimulationData(stencilNum=1000,samplePerStencil=50,fileName=\"aw=1.3_internal.csv\", override=False)\n",
    "dataset1 = SimulationData(stencilNum=1000,samplePerStencil=50,fileName=\"aw=1.7_internal.csv\", override=False)\n",
    "dataset2 = SimulationData(stencilNum=1000,samplePerStencil=50,fileName=\"aw=2.0_internal.csv\", override=False)\n"
   ]
  },
  {
   "cell_type": "code",
   "execution_count": 3,
   "id": "82b6a451",
   "metadata": {},
   "outputs": [],
   "source": [
    "input_size1 = dataset2.x.shape[2]\n",
    "hidden_size1_1 = 32\n",
    "hidden_size1_2 = 64\n",
    "output_size1 = 256\n",
    "\n",
    "input_size2 = 256*50\n",
    "hidden_size2_1 = 64\n",
    "hidden_size2_2 = 32\n",
    "output_size2 = 3\n",
    "\n",
    "model_50 = MainNet(input_size1, hidden_size1_1, hidden_size1_2, output_size1, input_size2,hidden_size2_1, hidden_size2_2, output_size2)\n",
    "model_100 = MainNet(input_size1, hidden_size1_1, hidden_size1_2, output_size1, input_size2,hidden_size2_1, hidden_size2_2, output_size2)\n",
    "model_200 = MainNet(input_size1, hidden_size1_1, hidden_size1_2, output_size1, input_size2,hidden_size2_1, hidden_size2_2, output_size2)\n",
    "model_300 = MainNet(input_size1, hidden_size1_1, hidden_size1_2, output_size1, input_size2,hidden_size2_1, hidden_size2_2, output_size2)"
   ]
  },
  {
   "cell_type": "code",
   "execution_count": 4,
   "id": "f5c39a26",
   "metadata": {},
   "outputs": [
    {
     "data": {
      "text/plain": [
       "<All keys matched successfully>"
      ]
     },
     "execution_count": 4,
     "metadata": {},
     "output_type": "execute_result"
    }
   ],
   "source": [
    "model_50.load_state_dict(torch.load(\"./models/net.pth\"))\n",
    "model_100.load_state_dict(torch.load(\"./models/net_C=1000_S=50_E=100.pth\"))\n",
    "model_200.load_state_dict(torch.load(\"./models/net_C=1000_S=50_E=200.pth\"))\n",
    "model_300.load_state_dict(torch.load(\"./models/net_C=1000_S=50_E=300.pth\"))"
   ]
  },
  {
   "cell_type": "code",
   "execution_count": 5,
   "id": "1f9a92ed",
   "metadata": {},
   "outputs": [],
   "source": [
    "def get_data(dataset, model):\n",
    "    x = []\n",
    "    y = []\n",
    "    z = []\n",
    "    true_z = []\n",
    "    for i in range(len(dataset)):\n",
    "        features, labels = dataset[i]\n",
    "        centerpoint = dataset.centers[i]\n",
    "        true_z.append(labels[2].item())\n",
    "        x.append(centerpoint[0].item())\n",
    "        y.append(centerpoint[1].item())\n",
    "        output = model(features.float())[2].item()\n",
    "        z.append(output)\n",
    "    x = np.array(x)\n",
    "    y = np.array(y)\n",
    "    z = np.array(z)\n",
    "    true_z = np.array(true_z)\n",
    "    return x, y, z, true_z\n"
   ]
  },
  {
   "cell_type": "code",
   "execution_count": 22,
   "id": "bf0e8353",
   "metadata": {},
   "outputs": [],
   "source": [
    "def contour(x, y, z, true_z, save=True, path='./images/countour.png'):\n",
    "    xi, yi = np.linspace(x.min(),x.max(), 3000), np.linspace(y.min(), y.max(), 3000)\n",
    "    xi, yi = np.meshgrid(xi, yi)\n",
    "    zi_predicted = scipy.interpolate.griddata((x, y), z, (xi, yi), method='linear')\n",
    "    zi_true = scipy.interpolate.griddata((x, y), true_z , (xi, yi), method='linear')\n",
    "\n",
    "    f, (ax1, ax2) = plt.subplots(1, 2, sharey=False)\n",
    "\n",
    "    ax1.set(xlim=[-0.3, 13.2], ylim=[-0.3, 3.3], aspect=1)\n",
    "    ax2.set(xlim=[-0.3, 13.2], ylim=[-0.3, 3.3], aspect=1)\n",
    "\n",
    "    ax1_plot = ax1.contourf(xi, yi, zi_true, vmin=-0.15, vmax=1.05)\n",
    "    ax2_plot = ax2.contourf(xi, yi, zi_predicted, vmin=-0.15, vmax=1.05)\n",
    "    plt.colorbar(ax1_plot,ax=[ax2, ax1], orientation='horizontal', shrink=0.7, location=\"top\", label=\"ν\", aspect=50, ticks=[-0.15, 0.15, 0.45, 0.75, 1.05])\n",
    "    if(save):\n",
    "        plt.savefig(path, dpi=1500)\n",
    "    plt.show()"
   ]
  },
  {
   "cell_type": "code",
   "execution_count": 13,
   "id": "05fb78e3",
   "metadata": {},
   "outputs": [],
   "source": [
    "x, y, z, true_z = get_data(dataset1, model_300)"
   ]
  },
  {
   "cell_type": "code",
   "execution_count": 23,
   "id": "f89f57cd",
   "metadata": {},
   "outputs": [
    {
     "data": {
      "image/png": "[encoded data removed]",
      "text/plain": [
       "<Figure size 640x480 with 3 Axes>"
      ]
     },
     "metadata": {},
     "output_type": "display_data"
    }
   ],
   "source": [
    "#x, y, z, true_z = get_data(dataset2, model_300)\n",
    "contour(x,y,z, true_z,  path='./images/contours/contour_2.0_300.png')"
   ]
  },
  {
   "cell_type": "code",
   "execution_count": null,
   "id": "a196c87f",
   "metadata": {},
   "outputs": [],
   "source": [
    "plt.scatter(dataset3.x[:,0], dataset3.x[:,1])"
   ]
  },
  {
   "cell_type": "code",
   "execution_count": null,
   "id": "81bbaade",
   "metadata": {},
   "outputs": [],
   "source": [
    "plt.xlim(-0.3, 10.3)\n",
    "plt.ylim(-0.3, 3.3)\n",
    "plt.gca().set_aspect('equal', adjustable='box')\n",
    "plt.contourf(xi, yi, zi, levels=10)\n",
    "plt.savefig(\"./images/contour_6_true.png\", dpi=1500)"
   ]
  },
  {
   "cell_type": "code",
   "execution_count": null,
   "id": "02d99bd2",
   "metadata": {},
   "outputs": [],
   "source": []
  }
 ],
 "metadata": {
  "kernelspec": {
   "display_name": "Python 3 (ipykernel)",
   "language": "python",
   "name": "python3"
  },
  "language_info": {
   "codemirror_mode": {
    "name": "ipython",
    "version": 3
   },
   "file_extension": ".py",
   "mimetype": "text/x-python",
   "name": "python",
   "nbconvert_exporter": "python",
   "pygments_lexer": "ipython3",
   "version": "3.10.4"
  }
 },
 "nbformat": 4,
 "nbformat_minor": 5
}
