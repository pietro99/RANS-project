{
 "cells": [
  {
   "cell_type": "code",
   "execution_count": 5,
   "id": "d46b7dfd",
   "metadata": {},
   "outputs": [
    {
     "name": "stderr",
     "output_type": "stream",
     "text": [
      "C:\\Users\\Pietro\\anaconda3\\envs\\rans\\lib\\site-packages\\tqdm\\auto.py:22: TqdmWarning: IProgress not found. Please update jupyter and ipywidgets. See https://ipywidgets.readthedocs.io/en/stable/user_install.html\n",
      "  from .autonotebook import tqdm as notebook_tqdm\n"
     ]
    }
   ],
   "source": [
    "import torch\n",
    "import torch.nn as nn\n",
    "import hiddenlayer as hl\n",
    "from dataset import SimulationData\n",
    "import numpy as np\n",
    "import matplotlib.pyplot as plt\n",
    "import scipy.interpolate\n",
    "import tqdm\n",
    "from model import MainNet\n",
    "import matplotlib as mpl\n"
   ]
  },
  {
   "cell_type": "code",
   "execution_count": 6,
   "id": "e9d974d2",
   "metadata": {},
   "outputs": [],
   "source": [
    "dataset = SimulationData(stencilNum=500,samplePerStencil=50, fileNames=[\"aw=1.1_internal.csv\",\"aw=1.2_internal.csv\",\"aw=1.3_internal.csv\", \"aw=1.4_internal.csv\",\"aw=1.5_internal.csv\",\"aw=1.6_internal.csv\",\"aw=1.7_internal.csv\",\"aw=1.8_internal.csv\",\"aw=1.9_internal.csv\",\"aw=2.0_internal.csv\"], override=False)\n"
   ]
  },
  {
   "cell_type": "code",
   "execution_count": 7,
   "id": "82b6a451",
   "metadata": {},
   "outputs": [],
   "source": [
    "input_size1 = 4\n",
    "hidden_size1_1 = 32\n",
    "hidden_size1_2 = 64\n",
    "output_size1 = 256\n",
    "\n",
    "input_size2 = 256*5\n",
    "hidden_size2_1 = 64\n",
    "hidden_size2_2 = 32\n",
    "output_size2 = 3\n",
    "\n",
    "model_20 = MainNet(input_size1, hidden_size1_1, hidden_size1_2, output_size1, input_size2,hidden_size2_1, hidden_size2_2, output_size2)\n"
   ]
  },
  {
   "cell_type": "code",
   "execution_count": 8,
   "id": "f5c39a26",
   "metadata": {},
   "outputs": [
    {
     "data": {
      "text/plain": [
       "<All keys matched successfully>"
      ]
     },
     "execution_count": 8,
     "metadata": {},
     "output_type": "execute_result"
    }
   ],
   "source": [
    "model_20.load_state_dict(torch.load(\"./models/net_C_4.0=500_S=50_E=300.pth\"))"
   ]
  },
  {
   "cell_type": "code",
   "execution_count": 32,
   "id": "6becbcb3",
   "metadata": {},
   "outputs": [
    {
     "data": {
      "text/plain": [
       "<matplotlib.collections.PathCollection at 0x1e684a4ae60>"
      ]
     },
     "execution_count": 32,
     "metadata": {},
     "output_type": "execute_result"
    },
    {
     "data": {
      "image/png": "[encoded data removed]",
      "text/plain": [
       "<Figure size 640x480 with 1 Axes>"
      ]
     },
     "metadata": {},
     "output_type": "display_data"
    }
   ],
   "source": [
    "f, (ax1) = plt.subplots(1, 1, sharey=False)\n",
    "\n",
    "ax1.set(xlim=[-0.3, 10], ylim=[-0.3, 3.3], aspect=1)\n",
    "ax1.scatter(dataset.centers['aw=1.1_internal.csv'][:,0], dataset.centers['aw=1.1_internal.csv'][:,1])"
   ]
  },
  {
   "cell_type": "code",
   "execution_count": 11,
   "id": "1f9a92ed",
   "metadata": {},
   "outputs": [],
   "source": [
    "criterion = nn.MSELoss()\n",
    "def get_data(dataset, model, key):\n",
    "    x = []\n",
    "    y = []\n",
    "    z = []\n",
    "    true_z = []\n",
    "    losses3 = []\n",
    "    losses2 = []\n",
    "    losses1 = []\n",
    "\n",
    "    for i in range(len(dataset.file_x[key])):\n",
    "        features =  dataset.file_x[key][i]\n",
    "        labels =  dataset.file_y[key][i]\n",
    "        #print(features)\n",
    "        centerpoint = dataset.centers[key][i]\n",
    "        true_z.append(labels[2].item())\n",
    "        x.append(centerpoint[0].item())\n",
    "        y.append(centerpoint[1].item())\n",
    "        output1, output2, output3 = model(features.float())\n",
    "        z.append(output3.item())\n",
    "        labels[2].item()\n",
    "        loss3 = criterion(output3.reshape(1), labels[2])\n",
    "        loss2 = criterion(output2.reshape(1), labels[1])\n",
    "        loss1 = criterion(output1.reshape(1), labels[0])\n",
    "\n",
    "        losses3.append(loss3.item())\n",
    "        losses2.append(loss2.item())\n",
    "        losses1.append(loss1.item())\n",
    "\n",
    "    losses3 = np.array(losses3)\n",
    "    losses2 = np.array(losses2)\n",
    "    losses1 = np.array(losses1)\n",
    "\n",
    "    x = np.array(x)\n",
    "    y = np.array(y)\n",
    "    z = np.array(z)\n",
    "    true_z = np.array(true_z)\n",
    "    \n",
    "    return x, y, z, true_z, losses1, losses2, losses3\n"
   ]
  },
  {
   "cell_type": "code",
   "execution_count": 12,
   "id": "bf0e8353",
   "metadata": {},
   "outputs": [],
   "source": [
    "def contour(x, y, z, true_z, save=True, path='./images/countour.png'):\n",
    "    from sklearn.preprocessing import Normalizer\n",
    "\n",
    "    xi, yi = np.linspace(x.min(),x.max(), 3000), np.linspace(y.min(), y.max(), 3000)\n",
    "    xi, yi = np.meshgrid(xi, yi)\n",
    "    zi_predicted = scipy.interpolate.griddata((x, y), z, (xi, yi), method='linear')\n",
    "    zi_true = scipy.interpolate.griddata((x, y), true_z , (xi, yi), method='linear')\n",
    "\n",
    "    f, (ax1, ax2) = plt.subplots(1, 2, sharey=False)\n",
    "\n",
    "    ax1.set(xlim=[-0.3, 11], ylim=[-0.3, 3.3], aspect=1)\n",
    "    ax2.set(xlim=[-0.3, 11], ylim=[-0.3, 3.3], aspect=1)\n",
    "    norm = mpl.colors.Normalize(vmin=-1, vmax=1)\n",
    "    \n",
    "    ax1_plot = ax1.contourf(xi, yi, zi_true,levels=20)\n",
    "    ax2_plot = ax2.contourf(xi, yi, zi_predicted,levels=20)\n",
    "    plt.colorbar(ax1_plot,ax=[ax1, ax2], orientation='horizontal', shrink=1, location=\"top\", label=\"ν\", aspect=50)\n",
    "    #plt.colorbar(ax2_plot,ax=[ax2], orientation='horizontal', shrink=1, location=\"top\", label=\"ν\", aspect=50)\n",
    "\n",
    "    if(save):\n",
    "        plt.savefig(path, dpi=1500)\n",
    "    plt.show()"
   ]
  },
  {
   "cell_type": "code",
   "execution_count": 13,
   "id": "30b06d04",
   "metadata": {},
   "outputs": [],
   "source": [
    "def losscontour(x, y, losses, save=True, path='./images/countour.png'):\n",
    "    from sklearn.preprocessing import Normalizer\n",
    "\n",
    "    xi, yi = np.linspace(x.min(),x.max(), 3000), np.linspace(y.min(), y.max(), 3000)\n",
    "    xi, yi = np.meshgrid(xi, yi)\n",
    "    lossi = scipy.interpolate.griddata((x, y), losses, (xi, yi), method='linear')\n",
    "    f, (ax1) = plt.subplots(1, 1, sharey=False)\n",
    "    ax1.set(xlim=[-0.3, 13], ylim=[-0.3, 3.3], aspect=1)\n",
    "    \n",
    "    ax1_plot = ax1.contourf(xi, yi, lossi, levels=50)\n",
    "    plt.colorbar(ax1_plot,ax=[ax1], orientation='horizontal', shrink=1, location=\"top\", label=\"ν\", aspect=50)\n",
    "    #plt.colorbar(ax2_plot,ax=[ax2], orientation='horizontal', shrink=1, location=\"top\", label=\"ν\", aspect=50)\n",
    "    if(save):\n",
    "        plt.savefig(path, dpi=1500)\n",
    "    plt.show()"
   ]
  },
  {
   "cell_type": "code",
   "execution_count": 20,
   "id": "05fb78e3",
   "metadata": {},
   "outputs": [],
   "source": [
    "x, y, z, true_z, losses1, losses2, losses3 = get_data(dataset, model_20, 'aw=2.0_internal.csv')"
   ]
  },
  {
   "cell_type": "code",
   "execution_count": 2,
   "id": "f89f57cd",
   "metadata": {},
   "outputs": [
    {
     "ename": "NameError",
     "evalue": "name 'contour' is not defined",
     "output_type": "error",
     "traceback": [
      "\u001b[1;31m---------------------------------------------------------------------------\u001b[0m",
      "\u001b[1;31mNameError\u001b[0m                                 Traceback (most recent call last)",
      "Cell \u001b[1;32mIn [2], line 2\u001b[0m\n\u001b[0;32m      1\u001b[0m \u001b[38;5;66;03m#x, y, z, true_z = get_data(dataset2, model_300)\u001b[39;00m\n\u001b[1;32m----> 2\u001b[0m contour(x,y,z, true_z, path\u001b[38;5;241m=\u001b[39m\u001b[38;5;124m'\u001b[39m\u001b[38;5;124m./images/contours2.0/contour_all_1.0_300.png\u001b[39m\u001b[38;5;124m'\u001b[39m)\n",
      "\u001b[1;31mNameError\u001b[0m: name 'contour' is not defined"
     ]
    }
   ],
   "source": [
    "#x, y, z, true_z = get_data(dataset2, model_300)\n",
    "contour(x,y,z, true_z, path='./images/contours2.0/contour_all_1.7_300.png')"
   ]
  },
  {
   "cell_type": "code",
   "execution_count": 21,
   "id": "1c1552be",
   "metadata": {},
   "outputs": [
    {
     "data": {
      "image/png": "[encoded data removed]",
      "text/plain": [
       "<Figure size 640x480 with 2 Axes>"
      ]
     },
     "metadata": {},
     "output_type": "display_data"
    }
   ],
   "source": [
    "losscontour(x,y, losses3, path='./images/contours_LOSS/contour_all_2.0_300_loss3.png')"
   ]
  },
  {
   "cell_type": "code",
   "execution_count": null,
   "id": "81bbaade",
   "metadata": {},
   "outputs": [],
   "source": [
    "plt.xlim(-0.3, 10.3)\n",
    "plt.ylim(-0.3, 3.3)\n",
    "plt.gca().set_aspect('equal', adjustable='box')\n",
    "plt.contourf(xi, yi, zi, levels=10)\n",
    "plt.savefig(\"./images/contour_6_true.png\", dpi=1500)"
   ]
  },
  {
   "cell_type": "code",
   "execution_count": null,
   "id": "02d99bd2",
   "metadata": {},
   "outputs": [],
   "source": [
    "plt.scatter(dataset.file_x['aw=1.1_internal.csv'][:,0], dataset.file_x['aw=1.1_internal.csv'][:,1])"
   ]
  },
  {
   "cell_type": "code",
   "execution_count": null,
   "id": "e57762c0",
   "metadata": {},
   "outputs": [],
   "source": [
    "dataset.xdf_shuffled['aw=1.0_internal.csv']"
   ]
  },
  {
   "cell_type": "code",
   "execution_count": null,
   "id": "d47e707d",
   "metadata": {},
   "outputs": [],
   "source": [
    "plt.scatter(dataset.x['aw=1.1_internal.csv'][:1000], dataset.xdf_shuffled['aw=1.1_internal.csv'][:1000])"
   ]
  },
  {
   "cell_type": "code",
   "execution_count": null,
   "id": "ed5f9f72",
   "metadata": {},
   "outputs": [],
   "source": [
    "plt.scatter(dataset.xdf_shuffled['aw=1.1_internal.csv'][\"Cx\"], dataset.xdf_shuffled['aw=1.1_internal.csv'][\"Cy\"])"
   ]
  },
  {
   "cell_type": "code",
   "execution_count": null,
   "id": "ed944bf5",
   "metadata": {},
   "outputs": [],
   "source": [
    "dataset.xdf_shuffled['aw=1.0_internal.csv'][:10]"
   ]
  },
  {
   "cell_type": "code",
   "execution_count": null,
   "id": "e8ba0986",
   "metadata": {},
   "outputs": [],
   "source": []
  },
  {
   "cell_type": "code",
   "execution_count": null,
   "id": "ec06e466",
   "metadata": {},
   "outputs": [],
   "source": []
  }
 ],
 "metadata": {
  "kernelspec": {
   "display_name": "Python 3 (ipykernel)",
   "language": "python",
   "name": "python3"
  },
  "language_info": {
   "codemirror_mode": {
    "name": "ipython",
    "version": 3
   },
   "file_extension": ".py",
   "mimetype": "text/x-python",
   "name": "python",
   "nbconvert_exporter": "python",
   "pygments_lexer": "ipython3",
   "version": "3.10.4"
  }
 },
 "nbformat": 4,
 "nbformat_minor": 5
}
